{
  "nbformat": 4,
  "nbformat_minor": 0,
  "metadata": {
    "colab": {
      "name": "ARIMA.ipynb",
      "provenance": [],
      "authorship_tag": "ABX9TyPN7xMEqyLuFBpJI/vrPVy8",
      "include_colab_link": true
    },
    "kernelspec": {
      "name": "python3",
      "display_name": "Python 3"
    },
    "accelerator": "GPU"
  },
  "cells": [
    {
      "cell_type": "markdown",
      "metadata": {
        "id": "view-in-github",
        "colab_type": "text"
      },
      "source": [
        "<a href=\"https://colab.research.google.com/github/puneat/COVID-19_Estimation/blob/master/ARIMA.ipynb\" target=\"_parent\"><img src=\"https://colab.research.google.com/assets/colab-badge.svg\" alt=\"Open In Colab\"/></a>"
      ]
    },
    {
      "cell_type": "code",
      "metadata": {
        "id": "z9v1qHHZuInS",
        "colab_type": "code",
        "colab": {
          "base_uri": "https://localhost:8080/",
          "height": 35
        },
        "outputId": "ad98f3de-0881-4dda-ba07-f6b88586adb6"
      },
      "source": [
        "from google.colab import drive\n",
        "drive.mount('/gdrive', force_remount=True)"
      ],
      "execution_count": null,
      "outputs": [
        {
          "output_type": "stream",
          "text": [
            "Mounted at /gdrive\n"
          ],
          "name": "stdout"
        }
      ]
    },
    {
      "cell_type": "code",
      "metadata": {
        "id": "uhE-Fd1naCrJ",
        "colab_type": "code",
        "colab": {}
      },
      "source": [
        "import numpy as np \n",
        "import pandas as pd\n",
        "import os\n",
        "from numpy import log\n",
        "from pandas import DataFrame\n",
        "from sklearn.preprocessing import LabelEncoder\n",
        "import warnings\n",
        "warnings.filterwarnings('ignore')\n",
        "from datetime import date"
      ],
      "execution_count": null,
      "outputs": []
    },
    {
      "cell_type": "code",
      "metadata": {
        "id": "55LNg2jVaEaE",
        "colab_type": "code",
        "colab": {}
      },
      "source": [
        "#import pmdarima as pm\n",
        "from pandas.plotting import lag_plot\n",
        "from pandas.plotting import autocorrelation_plot\n",
        "from statsmodels.graphics.tsaplots import plot_acf, plot_pacf\n",
        "from statsmodels.tsa.arima_model import ARIMA\n",
        "import datetime\n",
        "import matplotlib.pyplot as plt\n",
        "from statsmodels.tsa.stattools import adfuller\n",
        "%matplotlib inline \n",
        "import matplotlib\n",
        "import seaborn as sns"
      ],
      "execution_count": null,
      "outputs": []
    },
    {
      "cell_type": "code",
      "metadata": {
        "id": "CvPNuEqcZ7FD",
        "colab_type": "code",
        "colab": {}
      },
      "source": [
        "rawdata1=pd.read_csv('https://api.covid19india.org/csv/latest/raw_data1.csv')\n",
        "rawdata2=pd.read_csv('https://api.covid19india.org/csv/latest/raw_data2.csv')\n",
        "rawdata3=pd.read_csv('https://api.covid19india.org/csv/latest/raw_data3.csv')\n",
        "rawdata4=pd.read_csv('https://api.covid19india.org/csv/latest/raw_data4.csv')\n",
        "rawdata5=pd.read_csv('https://api.covid19india.org/csv/latest/raw_data5.csv')\n",
        "rawdata6=pd.read_csv('https://api.covid19india.org/csv/latest/raw_data6.csv')"
      ],
      "execution_count": null,
      "outputs": []
    },
    {
      "cell_type": "code",
      "metadata": {
        "id": "txBNHPkKacjf",
        "colab_type": "code",
        "colab": {
          "base_uri": "https://localhost:8080/",
          "height": 125
        },
        "outputId": "5b31c210-b125-4df9-981a-4ac55e836688"
      },
      "source": [
        "print(rawdata1.shape,'\\n',rawdata2.shape,'\\n',rawdata3.shape,\n",
        "'\\n',rawdata4.shape,'\\n',rawdata5.shape,'\\n',rawdata6.shape)"
      ],
      "execution_count": null,
      "outputs": [
        {
          "output_type": "stream",
          "text": [
            "(17364, 21) \n",
            " (10819, 21) \n",
            " (10020, 20) \n",
            " (18220, 20) \n",
            " (20438, 20) \n",
            " (16594, 20)\n"
          ],
          "name": "stdout"
        }
      ]
    },
    {
      "cell_type": "code",
      "metadata": {
        "id": "POU1ZdODcl3G",
        "colab_type": "code",
        "colab": {
          "base_uri": "https://localhost:8080/",
          "height": 143
        },
        "outputId": "613260e3-32cb-49af-a5de-e6f40ea7b970"
      },
      "source": [
        "rawdata1.columns"
      ],
      "execution_count": null,
      "outputs": [
        {
          "output_type": "execute_result",
          "data": {
            "text/plain": [
              "Index(['Patient Number', 'State Patient Number', 'Date Announced',\n",
              "       'Estimated Onset Date', 'Age Bracket', 'Gender', 'Detected City',\n",
              "       'Detected District', 'Detected State', 'State code', 'Current Status',\n",
              "       'Notes', 'Contracted from which Patient (Suspected)', 'Nationality',\n",
              "       'Type of transmission', 'Status Change Date', 'Source_1', 'Source_2',\n",
              "       'Source_3', 'Backup Notes', 'Num cases'],\n",
              "      dtype='object')"
            ]
          },
          "metadata": {
            "tags": []
          },
          "execution_count": 29
        }
      ]
    },
    {
      "cell_type": "code",
      "metadata": {
        "id": "tqEbf1orcq99",
        "colab_type": "code",
        "colab": {
          "base_uri": "https://localhost:8080/",
          "height": 143
        },
        "outputId": "4729fae8-9db9-4d08-9b68-e41f030d7b39"
      },
      "source": [
        "rawdata2.columns"
      ],
      "execution_count": null,
      "outputs": [
        {
          "output_type": "execute_result",
          "data": {
            "text/plain": [
              "Index(['Patient Number', 'State Patient Number', 'Date Announced',\n",
              "       'Estimated Onset Date', 'Age Bracket', 'Gender', 'Detected City',\n",
              "       'Detected District', 'Detected State', 'State code', 'Current Status',\n",
              "       'Notes', 'Contracted from which Patient (Suspected)', 'Nationality',\n",
              "       'Type of transmission', 'Status Change Date', 'Source_1', 'Source_2',\n",
              "       'Source_3', 'Backup Notes', 'Num cases'],\n",
              "      dtype='object')"
            ]
          },
          "metadata": {
            "tags": []
          },
          "execution_count": 30
        }
      ]
    },
    {
      "cell_type": "code",
      "metadata": {
        "id": "bg3VnSvlcs_8",
        "colab_type": "code",
        "colab": {
          "base_uri": "https://localhost:8080/",
          "height": 143
        },
        "outputId": "429883df-3dc8-4af1-99a7-7c5cbc8185b0"
      },
      "source": [
        "rawdata3.columns"
      ],
      "execution_count": null,
      "outputs": [
        {
          "output_type": "execute_result",
          "data": {
            "text/plain": [
              "Index(['Entry_ID', 'State Patient Number', 'Date Announced', 'Age Bracket',\n",
              "       'Gender', 'Detected City', 'Detected District', 'Detected State',\n",
              "       'State code', 'Num Cases', 'Current Status',\n",
              "       'Contracted from which Patient (Suspected)', 'Notes', 'Source_1',\n",
              "       'Source_2', 'Source_3', 'Nationality', 'Type of transmission',\n",
              "       'Status Change Date', 'Patient Number'],\n",
              "      dtype='object')"
            ]
          },
          "metadata": {
            "tags": []
          },
          "execution_count": 31
        }
      ]
    },
    {
      "cell_type": "code",
      "metadata": {
        "id": "hLAdCw2vctVD",
        "colab_type": "code",
        "colab": {
          "base_uri": "https://localhost:8080/",
          "height": 143
        },
        "outputId": "82388889-f426-4a49-d949-ff3dce0d6bb5"
      },
      "source": [
        "rawdata4.columns"
      ],
      "execution_count": null,
      "outputs": [
        {
          "output_type": "execute_result",
          "data": {
            "text/plain": [
              "Index(['Entry_ID', 'State Patient Number', 'Date Announced', 'Age Bracket',\n",
              "       'Gender', 'Detected City', 'Detected District', 'Detected State',\n",
              "       'State code', 'Num Cases', 'Current Status',\n",
              "       'Contracted from which Patient (Suspected)', 'Notes', 'Source_1',\n",
              "       'Source_2', 'Source_3', 'Nationality', 'Type of transmission',\n",
              "       'Status Change Date', 'Patient Number'],\n",
              "      dtype='object')"
            ]
          },
          "metadata": {
            "tags": []
          },
          "execution_count": 32
        }
      ]
    },
    {
      "cell_type": "code",
      "metadata": {
        "id": "te2TaX1Gcti8",
        "colab_type": "code",
        "colab": {
          "base_uri": "https://localhost:8080/",
          "height": 143
        },
        "outputId": "7959f7a7-6e45-48da-9eb8-9673320a527a"
      },
      "source": [
        "rawdata5.columns"
      ],
      "execution_count": null,
      "outputs": [
        {
          "output_type": "execute_result",
          "data": {
            "text/plain": [
              "Index(['Entry_ID', 'State Patient Number', 'Date Announced', 'Age Bracket',\n",
              "       'Gender', 'Detected City', 'Detected District', 'Detected State',\n",
              "       'State code', 'Num Cases', 'Current Status',\n",
              "       'Contracted from which Patient (Suspected)', 'Notes', 'Source_1',\n",
              "       'Source_2', 'Source_3', 'Nationality', 'Type of transmission',\n",
              "       'Status Change Date', 'Patient Number'],\n",
              "      dtype='object')"
            ]
          },
          "metadata": {
            "tags": []
          },
          "execution_count": 33
        }
      ]
    },
    {
      "cell_type": "code",
      "metadata": {
        "id": "2JTVY29PctuG",
        "colab_type": "code",
        "colab": {
          "base_uri": "https://localhost:8080/",
          "height": 143
        },
        "outputId": "6d50a7db-c359-415c-8d1b-b587443cbfea"
      },
      "source": [
        "rawdata6.columns"
      ],
      "execution_count": null,
      "outputs": [
        {
          "output_type": "execute_result",
          "data": {
            "text/plain": [
              "Index(['Entry_ID', 'State Patient Number', 'Date Announced', 'Age Bracket',\n",
              "       'Gender', 'Detected City', 'Detected District', 'Detected State',\n",
              "       'State code', 'Num Cases', 'Current Status',\n",
              "       'Contracted from which Patient (Suspected)', 'Notes', 'Source_1',\n",
              "       'Source_2', 'Source_3', 'Nationality', 'Type of transmission',\n",
              "       'Status Change Date', 'Patient Number'],\n",
              "      dtype='object')"
            ]
          },
          "metadata": {
            "tags": []
          },
          "execution_count": 34
        }
      ]
    },
    {
      "cell_type": "code",
      "metadata": {
        "id": "Mjtsw3BKc6zV",
        "colab_type": "code",
        "colab": {}
      },
      "source": [
        "frames=[rawdata1,rawdata2];\n",
        "cons_12=pd.concat(frames);\n",
        "cons_12=cons_12.reset_index()"
      ],
      "execution_count": null,
      "outputs": []
    },
    {
      "cell_type": "code",
      "metadata": {
        "id": "DSEhv_l-dJ9F",
        "colab_type": "code",
        "colab": {}
      },
      "source": [
        "frames=[rawdata3,rawdata4,rawdata5,rawdata6];\n",
        "cons_3456=pd.concat(frames);\n",
        "cons_3456=cons_3456.reset_index()"
      ],
      "execution_count": null,
      "outputs": []
    },
    {
      "cell_type": "code",
      "metadata": {
        "id": "mJx1XIRjd8Xs",
        "colab_type": "code",
        "colab": {
          "base_uri": "https://localhost:8080/",
          "height": 250
        },
        "outputId": "59887f91-8455-4182-d075-cf99179f502d"
      },
      "source": [
        "cons_12.head(2)"
      ],
      "execution_count": null,
      "outputs": [
        {
          "output_type": "execute_result",
          "data": {
            "text/html": [
              "<div>\n",
              "<style scoped>\n",
              "    .dataframe tbody tr th:only-of-type {\n",
              "        vertical-align: middle;\n",
              "    }\n",
              "\n",
              "    .dataframe tbody tr th {\n",
              "        vertical-align: top;\n",
              "    }\n",
              "\n",
              "    .dataframe thead th {\n",
              "        text-align: right;\n",
              "    }\n",
              "</style>\n",
              "<table border=\"1\" class=\"dataframe\">\n",
              "  <thead>\n",
              "    <tr style=\"text-align: right;\">\n",
              "      <th></th>\n",
              "      <th>Patient Number</th>\n",
              "      <th>State Patient Number</th>\n",
              "      <th>Date Announced</th>\n",
              "      <th>Estimated Onset Date</th>\n",
              "      <th>Age Bracket</th>\n",
              "      <th>Gender</th>\n",
              "      <th>Detected City</th>\n",
              "      <th>Detected District</th>\n",
              "      <th>Detected State</th>\n",
              "      <th>State code</th>\n",
              "      <th>Current Status</th>\n",
              "      <th>Notes</th>\n",
              "      <th>Contracted from which Patient (Suspected)</th>\n",
              "      <th>Nationality</th>\n",
              "      <th>Type of transmission</th>\n",
              "      <th>Status Change Date</th>\n",
              "      <th>Source_1</th>\n",
              "      <th>Source_2</th>\n",
              "      <th>Source_3</th>\n",
              "      <th>Backup Notes</th>\n",
              "      <th>Num cases</th>\n",
              "    </tr>\n",
              "  </thead>\n",
              "  <tbody>\n",
              "    <tr>\n",
              "      <th>0</th>\n",
              "      <td>1.0</td>\n",
              "      <td>KL-TS-P1</td>\n",
              "      <td>30/01/2020</td>\n",
              "      <td>NaN</td>\n",
              "      <td>20</td>\n",
              "      <td>F</td>\n",
              "      <td>Thrissur</td>\n",
              "      <td>Thrissur</td>\n",
              "      <td>Kerala</td>\n",
              "      <td>KL</td>\n",
              "      <td>Recovered</td>\n",
              "      <td>Travelled from Wuhan</td>\n",
              "      <td>NaN</td>\n",
              "      <td>India</td>\n",
              "      <td>Imported</td>\n",
              "      <td>14/02/2020</td>\n",
              "      <td>https://twitter.com/vijayanpinarayi/status/122...</td>\n",
              "      <td>https://weather.com/en-IN/india/news/news/2020...</td>\n",
              "      <td>NaN</td>\n",
              "      <td>Student from Wuhan</td>\n",
              "      <td>1</td>\n",
              "    </tr>\n",
              "    <tr>\n",
              "      <th>1</th>\n",
              "      <td>2.0</td>\n",
              "      <td>KL-AL-P1</td>\n",
              "      <td>02/02/2020</td>\n",
              "      <td>NaN</td>\n",
              "      <td>NaN</td>\n",
              "      <td>NaN</td>\n",
              "      <td>Alappuzha</td>\n",
              "      <td>Alappuzha</td>\n",
              "      <td>Kerala</td>\n",
              "      <td>KL</td>\n",
              "      <td>Recovered</td>\n",
              "      <td>Travelled from Wuhan</td>\n",
              "      <td>NaN</td>\n",
              "      <td>India</td>\n",
              "      <td>Imported</td>\n",
              "      <td>14/02/2020</td>\n",
              "      <td>https://www.indiatoday.in/india/story/kerala-r...</td>\n",
              "      <td>https://weather.com/en-IN/india/news/news/2020...</td>\n",
              "      <td>NaN</td>\n",
              "      <td>Student from Wuhan</td>\n",
              "      <td>1</td>\n",
              "    </tr>\n",
              "  </tbody>\n",
              "</table>\n",
              "</div>"
            ],
            "text/plain": [
              "   Patient Number State Patient Number  ...        Backup Notes  Num cases\n",
              "0             1.0             KL-TS-P1  ...  Student from Wuhan          1\n",
              "1             2.0             KL-AL-P1  ...  Student from Wuhan          1\n",
              "\n",
              "[2 rows x 21 columns]"
            ]
          },
          "metadata": {
            "tags": []
          },
          "execution_count": 39
        }
      ]
    },
    {
      "cell_type": "code",
      "metadata": {
        "id": "QvrJzQOkfhkE",
        "colab_type": "code",
        "colab": {
          "base_uri": "https://localhost:8080/",
          "height": 182
        },
        "outputId": "6676bb85-cff6-4188-fb03-208fc63c8e38"
      },
      "source": [
        "cons_3456.tail(2)"
      ],
      "execution_count": null,
      "outputs": [
        {
          "output_type": "execute_result",
          "data": {
            "text/html": [
              "<div>\n",
              "<style scoped>\n",
              "    .dataframe tbody tr th:only-of-type {\n",
              "        vertical-align: middle;\n",
              "    }\n",
              "\n",
              "    .dataframe tbody tr th {\n",
              "        vertical-align: top;\n",
              "    }\n",
              "\n",
              "    .dataframe thead th {\n",
              "        text-align: right;\n",
              "    }\n",
              "</style>\n",
              "<table border=\"1\" class=\"dataframe\">\n",
              "  <thead>\n",
              "    <tr style=\"text-align: right;\">\n",
              "      <th></th>\n",
              "      <th>index</th>\n",
              "      <th>Entry_ID</th>\n",
              "      <th>State Patient Number</th>\n",
              "      <th>Date Announced</th>\n",
              "      <th>Age Bracket</th>\n",
              "      <th>Gender</th>\n",
              "      <th>Detected City</th>\n",
              "      <th>Detected District</th>\n",
              "      <th>Detected State</th>\n",
              "      <th>State code</th>\n",
              "      <th>Num Cases</th>\n",
              "      <th>Current Status</th>\n",
              "      <th>Contracted from which Patient (Suspected)</th>\n",
              "      <th>Notes</th>\n",
              "      <th>Source_1</th>\n",
              "      <th>Source_2</th>\n",
              "      <th>Source_3</th>\n",
              "      <th>Nationality</th>\n",
              "      <th>Type of transmission</th>\n",
              "      <th>Status Change Date</th>\n",
              "      <th>Patient Number</th>\n",
              "    </tr>\n",
              "  </thead>\n",
              "  <tbody>\n",
              "    <tr>\n",
              "      <th>64273</th>\n",
              "      <td>15595</td>\n",
              "      <td>64226.0</td>\n",
              "      <td>NaN</td>\n",
              "      <td>NaN</td>\n",
              "      <td>NaN</td>\n",
              "      <td>NaN</td>\n",
              "      <td>NaN</td>\n",
              "      <td>NaN</td>\n",
              "      <td>NaN</td>\n",
              "      <td>NaN</td>\n",
              "      <td>NaN</td>\n",
              "      <td>NaN</td>\n",
              "      <td>NaN</td>\n",
              "      <td>NaN</td>\n",
              "      <td>NaN</td>\n",
              "      <td>NaN</td>\n",
              "      <td>NaN</td>\n",
              "      <td>NaN</td>\n",
              "      <td>NaN</td>\n",
              "      <td>NaN</td>\n",
              "      <td>93596.0</td>\n",
              "    </tr>\n",
              "    <tr>\n",
              "      <th>64274</th>\n",
              "      <td>15596</td>\n",
              "      <td>64227.0</td>\n",
              "      <td>NaN</td>\n",
              "      <td>NaN</td>\n",
              "      <td>NaN</td>\n",
              "      <td>NaN</td>\n",
              "      <td>NaN</td>\n",
              "      <td>NaN</td>\n",
              "      <td>NaN</td>\n",
              "      <td>NaN</td>\n",
              "      <td>NaN</td>\n",
              "      <td>NaN</td>\n",
              "      <td>NaN</td>\n",
              "      <td>NaN</td>\n",
              "      <td>NaN</td>\n",
              "      <td>NaN</td>\n",
              "      <td>NaN</td>\n",
              "      <td>NaN</td>\n",
              "      <td>NaN</td>\n",
              "      <td>NaN</td>\n",
              "      <td>93597.0</td>\n",
              "    </tr>\n",
              "  </tbody>\n",
              "</table>\n",
              "</div>"
            ],
            "text/plain": [
              "       index  Entry_ID  ... Status Change Date Patient Number\n",
              "64273  15595   64226.0  ...                NaN        93596.0\n",
              "64274  15596   64227.0  ...                NaN        93597.0\n",
              "\n",
              "[2 rows x 21 columns]"
            ]
          },
          "metadata": {
            "tags": []
          },
          "execution_count": 206
        }
      ]
    },
    {
      "cell_type": "code",
      "metadata": {
        "id": "Ti0uXYhYfcPg",
        "colab_type": "code",
        "colab": {
          "base_uri": "https://localhost:8080/",
          "height": 111
        },
        "outputId": "8e1b917d-c0cf-4e18-8170-b2710478b8f2"
      },
      "source": [
        "cons_3456=cons_3456.drop(columns=['Source_1','Source_2','Source_3','Type of transmission',\n",
        "             'Nationality','Contracted from which Patient (Suspected)',\n",
        "             'Notes','Detected District','Detected State','State code',\n",
        "             'Detected City','State Patient Number','Entry_ID','Status Change Date','index']);\n",
        "cons_3456.head(2)"
      ],
      "execution_count": null,
      "outputs": [
        {
          "output_type": "execute_result",
          "data": {
            "text/html": [
              "<div>\n",
              "<style scoped>\n",
              "    .dataframe tbody tr th:only-of-type {\n",
              "        vertical-align: middle;\n",
              "    }\n",
              "\n",
              "    .dataframe tbody tr th {\n",
              "        vertical-align: top;\n",
              "    }\n",
              "\n",
              "    .dataframe thead th {\n",
              "        text-align: right;\n",
              "    }\n",
              "</style>\n",
              "<table border=\"1\" class=\"dataframe\">\n",
              "  <thead>\n",
              "    <tr style=\"text-align: right;\">\n",
              "      <th></th>\n",
              "      <th>Date Announced</th>\n",
              "      <th>Age Bracket</th>\n",
              "      <th>Gender</th>\n",
              "      <th>Num Cases</th>\n",
              "      <th>Current Status</th>\n",
              "      <th>Patient Number</th>\n",
              "    </tr>\n",
              "  </thead>\n",
              "  <tbody>\n",
              "    <tr>\n",
              "      <th>0</th>\n",
              "      <td>27/04/2020</td>\n",
              "      <td>NaN</td>\n",
              "      <td>NaN</td>\n",
              "      <td>38.0</td>\n",
              "      <td>Hospitalized</td>\n",
              "      <td>27892.0</td>\n",
              "    </tr>\n",
              "    <tr>\n",
              "      <th>1</th>\n",
              "      <td>27/04/2020</td>\n",
              "      <td>NaN</td>\n",
              "      <td>NaN</td>\n",
              "      <td>2.0</td>\n",
              "      <td>Hospitalized</td>\n",
              "      <td>27893.0</td>\n",
              "    </tr>\n",
              "  </tbody>\n",
              "</table>\n",
              "</div>"
            ],
            "text/plain": [
              "  Date Announced  Age Bracket Gender  Num Cases Current Status  Patient Number\n",
              "0     27/04/2020          NaN    NaN       38.0   Hospitalized         27892.0\n",
              "1     27/04/2020          NaN    NaN        2.0   Hospitalized         27893.0"
            ]
          },
          "metadata": {
            "tags": []
          },
          "execution_count": 9
        }
      ]
    },
    {
      "cell_type": "code",
      "metadata": {
        "id": "wX6FZX1c-tKW",
        "colab_type": "code",
        "colab": {}
      },
      "source": [
        "cons_3456=cons_3456.drop(columns=['index'])"
      ],
      "execution_count": null,
      "outputs": []
    },
    {
      "cell_type": "code",
      "metadata": {
        "id": "dW-PgBtu-zCD",
        "colab_type": "code",
        "colab": {
          "base_uri": "https://localhost:8080/",
          "height": 111
        },
        "outputId": "f89e0f59-1a75-4682-fe61-d7b1d013cf68"
      },
      "source": [
        "cons_3456=cons_3456.drop(columns=['Source_1','Source_2','Source_3','Type of transmission',\n",
        "          'Nationality','Contracted from which Patient (Suspected)',\n",
        "          'Notes','Detected District','Detected State','State code',\n",
        "          'Detected City','State Patient Number','Entry_ID','Status Change Date','index']);\n",
        "cons_3456.head(2)"
      ],
      "execution_count": null,
      "outputs": [
        {
          "output_type": "execute_result",
          "data": {
            "text/html": [
              "<div>\n",
              "<style scoped>\n",
              "    .dataframe tbody tr th:only-of-type {\n",
              "        vertical-align: middle;\n",
              "    }\n",
              "\n",
              "    .dataframe tbody tr th {\n",
              "        vertical-align: top;\n",
              "    }\n",
              "\n",
              "    .dataframe thead th {\n",
              "        text-align: right;\n",
              "    }\n",
              "</style>\n",
              "<table border=\"1\" class=\"dataframe\">\n",
              "  <thead>\n",
              "    <tr style=\"text-align: right;\">\n",
              "      <th></th>\n",
              "      <th>Date Announced</th>\n",
              "      <th>Age Bracket</th>\n",
              "      <th>Gender</th>\n",
              "      <th>Num Cases</th>\n",
              "      <th>Current Status</th>\n",
              "      <th>Patient Number</th>\n",
              "    </tr>\n",
              "  </thead>\n",
              "  <tbody>\n",
              "    <tr>\n",
              "      <th>0</th>\n",
              "      <td>27/04/2020</td>\n",
              "      <td>NaN</td>\n",
              "      <td>NaN</td>\n",
              "      <td>38.0</td>\n",
              "      <td>Hospitalized</td>\n",
              "      <td>27892.0</td>\n",
              "    </tr>\n",
              "    <tr>\n",
              "      <th>1</th>\n",
              "      <td>27/04/2020</td>\n",
              "      <td>NaN</td>\n",
              "      <td>NaN</td>\n",
              "      <td>2.0</td>\n",
              "      <td>Hospitalized</td>\n",
              "      <td>27893.0</td>\n",
              "    </tr>\n",
              "  </tbody>\n",
              "</table>\n",
              "</div>"
            ],
            "text/plain": [
              "  Date Announced Age Bracket Gender  Num Cases Current Status  Patient Number\n",
              "0     27/04/2020         NaN    NaN       38.0   Hospitalized         27892.0\n",
              "1     27/04/2020         NaN    NaN        2.0   Hospitalized         27893.0"
            ]
          },
          "metadata": {
            "tags": []
          },
          "execution_count": 386
        }
      ]
    },
    {
      "cell_type": "code",
      "metadata": {
        "id": "MS7Qv_lreVzE",
        "colab_type": "code",
        "colab": {
          "base_uri": "https://localhost:8080/",
          "height": 111
        },
        "outputId": "556a3212-c605-412d-8e94-e1d7474f479e"
      },
      "source": [
        "cons_12=cons_12.drop(columns=['Source_1','Source_2','Source_3','Backup Notes','Type of transmission',\n",
        "             'Nationality','Contracted from which Patient (Suspected)',\n",
        "             'Notes','Detected District','Detected State','State code',\n",
        "             'Detected City','Estimated Onset Date','State Patient Number','Status Change Date']);\n",
        "cons_12.tail(2)"
      ],
      "execution_count": null,
      "outputs": [
        {
          "output_type": "execute_result",
          "data": {
            "text/html": [
              "<div>\n",
              "<style scoped>\n",
              "    .dataframe tbody tr th:only-of-type {\n",
              "        vertical-align: middle;\n",
              "    }\n",
              "\n",
              "    .dataframe tbody tr th {\n",
              "        vertical-align: top;\n",
              "    }\n",
              "\n",
              "    .dataframe thead th {\n",
              "        text-align: right;\n",
              "    }\n",
              "</style>\n",
              "<table border=\"1\" class=\"dataframe\">\n",
              "  <thead>\n",
              "    <tr style=\"text-align: right;\">\n",
              "      <th></th>\n",
              "      <th>index</th>\n",
              "      <th>Patient Number</th>\n",
              "      <th>Date Announced</th>\n",
              "      <th>Age Bracket</th>\n",
              "      <th>Gender</th>\n",
              "      <th>Current Status</th>\n",
              "      <th>Num cases</th>\n",
              "    </tr>\n",
              "  </thead>\n",
              "  <tbody>\n",
              "    <tr>\n",
              "      <th>28181</th>\n",
              "      <td>10817</td>\n",
              "      <td>NaN</td>\n",
              "      <td>25/04/2020</td>\n",
              "      <td>NaN</td>\n",
              "      <td>NaN</td>\n",
              "      <td>Hospitalized</td>\n",
              "      <td>6</td>\n",
              "    </tr>\n",
              "    <tr>\n",
              "      <th>28182</th>\n",
              "      <td>10818</td>\n",
              "      <td>NaN</td>\n",
              "      <td>25/04/2020</td>\n",
              "      <td>NaN</td>\n",
              "      <td>NaN</td>\n",
              "      <td>Hospitalized</td>\n",
              "      <td>-6</td>\n",
              "    </tr>\n",
              "  </tbody>\n",
              "</table>\n",
              "</div>"
            ],
            "text/plain": [
              "       index  Patient Number Date Announced  ... Gender Current Status Num cases\n",
              "28181  10817             NaN     25/04/2020  ...    NaN   Hospitalized         6\n",
              "28182  10818             NaN     25/04/2020  ...    NaN   Hospitalized        -6\n",
              "\n",
              "[2 rows x 7 columns]"
            ]
          },
          "metadata": {
            "tags": []
          },
          "execution_count": 10
        }
      ]
    },
    {
      "cell_type": "code",
      "metadata": {
        "id": "ifiSe4vv-5YD",
        "colab_type": "code",
        "colab": {}
      },
      "source": [
        "\n",
        "\n",
        "cons_12=cons_12.drop(columns=['index'])"
      ],
      "execution_count": null,
      "outputs": []
    },
    {
      "cell_type": "code",
      "metadata": {
        "id": "IZw9qIyw-9MS",
        "colab_type": "code",
        "colab": {
          "base_uri": "https://localhost:8080/",
          "height": 111
        },
        "outputId": "73829565-2093-4022-c395-c863e4cde188"
      },
      "source": [
        "cons_12=cons_12.drop(columns=['Source_1','Source_2','Source_3','Backup Notes',\n",
        "  'Type of transmission','Nationality','Contracted from which Patient (Suspected)',\n",
        "  'Notes','Detected District','Detected State','State code',\n",
        "  'Detected City','Estimated Onset Date','State Patient Number','Status Change Date']);\n",
        "cons_12=cons_12.drop(columns=['index'])\n",
        "cons_12.head(2)"
      ],
      "execution_count": null,
      "outputs": [
        {
          "output_type": "execute_result",
          "data": {
            "text/html": [
              "<div>\n",
              "<style scoped>\n",
              "    .dataframe tbody tr th:only-of-type {\n",
              "        vertical-align: middle;\n",
              "    }\n",
              "\n",
              "    .dataframe tbody tr th {\n",
              "        vertical-align: top;\n",
              "    }\n",
              "\n",
              "    .dataframe thead th {\n",
              "        text-align: right;\n",
              "    }\n",
              "</style>\n",
              "<table border=\"1\" class=\"dataframe\">\n",
              "  <thead>\n",
              "    <tr style=\"text-align: right;\">\n",
              "      <th></th>\n",
              "      <th>Date Announced</th>\n",
              "      <th>Age Bracket</th>\n",
              "      <th>Gender</th>\n",
              "      <th>Num Cases</th>\n",
              "      <th>Current Status</th>\n",
              "      <th>Patient Number</th>\n",
              "    </tr>\n",
              "  </thead>\n",
              "  <tbody>\n",
              "    <tr>\n",
              "      <th>0</th>\n",
              "      <td>30/01/2020</td>\n",
              "      <td>20</td>\n",
              "      <td>F</td>\n",
              "      <td>1</td>\n",
              "      <td>Recovered</td>\n",
              "      <td>1.0</td>\n",
              "    </tr>\n",
              "    <tr>\n",
              "      <th>1</th>\n",
              "      <td>02/02/2020</td>\n",
              "      <td>NaN</td>\n",
              "      <td>NaN</td>\n",
              "      <td>1</td>\n",
              "      <td>Recovered</td>\n",
              "      <td>2.0</td>\n",
              "    </tr>\n",
              "  </tbody>\n",
              "</table>\n",
              "</div>"
            ],
            "text/plain": [
              "  Date Announced Age Bracket Gender  Num Cases Current Status  Patient Number\n",
              "0     30/01/2020          20      F          1      Recovered             1.0\n",
              "1     02/02/2020         NaN    NaN          1      Recovered             2.0"
            ]
          },
          "metadata": {
            "tags": []
          },
          "execution_count": 392
        }
      ]
    },
    {
      "cell_type": "code",
      "metadata": {
        "id": "DM309H_hggoH",
        "colab_type": "code",
        "colab": {}
      },
      "source": [
        "cons_12=cons_12[['Date Announced', 'Age Bracket', 'Gender', 'Num cases','Current Status',\n",
        "       'Patient Number']]\n",
        "cons_12.columns=cons_3456.columns"
      ],
      "execution_count": null,
      "outputs": []
    },
    {
      "cell_type": "code",
      "metadata": {
        "id": "LS42d12Yg2Tv",
        "colab_type": "code",
        "colab": {
          "base_uri": "https://localhost:8080/",
          "height": 111
        },
        "outputId": "bdd3bdd1-bad9-484b-b13a-82735113f55b"
      },
      "source": [
        "cons_3456.tail(2)"
      ],
      "execution_count": null,
      "outputs": [
        {
          "output_type": "execute_result",
          "data": {
            "text/html": [
              "<div>\n",
              "<style scoped>\n",
              "    .dataframe tbody tr th:only-of-type {\n",
              "        vertical-align: middle;\n",
              "    }\n",
              "\n",
              "    .dataframe tbody tr th {\n",
              "        vertical-align: top;\n",
              "    }\n",
              "\n",
              "    .dataframe thead th {\n",
              "        text-align: right;\n",
              "    }\n",
              "</style>\n",
              "<table border=\"1\" class=\"dataframe\">\n",
              "  <thead>\n",
              "    <tr style=\"text-align: right;\">\n",
              "      <th></th>\n",
              "      <th>Date Announced</th>\n",
              "      <th>Age Bracket</th>\n",
              "      <th>Gender</th>\n",
              "      <th>Num Cases</th>\n",
              "      <th>Current Status</th>\n",
              "      <th>Patient Number</th>\n",
              "    </tr>\n",
              "  </thead>\n",
              "  <tbody>\n",
              "    <tr>\n",
              "      <th>65270</th>\n",
              "      <td>15/06/2020</td>\n",
              "      <td>NaN</td>\n",
              "      <td>NaN</td>\n",
              "      <td>NaN</td>\n",
              "      <td>NaN</td>\n",
              "      <td>94596.0</td>\n",
              "    </tr>\n",
              "    <tr>\n",
              "      <th>65271</th>\n",
              "      <td>15/06/2020</td>\n",
              "      <td>NaN</td>\n",
              "      <td>NaN</td>\n",
              "      <td>NaN</td>\n",
              "      <td>NaN</td>\n",
              "      <td>94597.0</td>\n",
              "    </tr>\n",
              "  </tbody>\n",
              "</table>\n",
              "</div>"
            ],
            "text/plain": [
              "      Date Announced  Age Bracket  ... Current Status  Patient Number\n",
              "65270     15/06/2020          NaN  ...            NaN         94596.0\n",
              "65271     15/06/2020          NaN  ...            NaN         94597.0\n",
              "\n",
              "[2 rows x 6 columns]"
            ]
          },
          "metadata": {
            "tags": []
          },
          "execution_count": 13
        }
      ]
    },
    {
      "cell_type": "code",
      "metadata": {
        "id": "e87L52s-mcTo",
        "colab_type": "code",
        "colab": {}
      },
      "source": [
        "df.to_csv('/gdrive/My Drive/ml/consdata.csv')"
      ],
      "execution_count": null,
      "outputs": []
    },
    {
      "cell_type": "code",
      "metadata": {
        "id": "Sqk3p89DhfmM",
        "colab_type": "code",
        "colab": {}
      },
      "source": [
        "frames=[cons_12,cons_3456];\n",
        "df=pd.concat(frames);\n",
        "df=df.reset_index()"
      ],
      "execution_count": null,
      "outputs": []
    },
    {
      "cell_type": "code",
      "metadata": {
        "id": "Hf-_eC4zPDyG",
        "colab_type": "code",
        "colab": {
          "base_uri": "https://localhost:8080/",
          "height": 143
        },
        "outputId": "10f3df0f-5a92-46d0-e0a2-78e3e192f8a6"
      },
      "source": [
        "df.any().isnull"
      ],
      "execution_count": null,
      "outputs": [
        {
          "output_type": "execute_result",
          "data": {
            "text/plain": [
              "<bound method Series.isnull of Date Announced    True\n",
              "Age Bracket       True\n",
              "Gender            True\n",
              "Num Cases         True\n",
              "Current Status    True\n",
              "Patient Number    True\n",
              "dtype: bool>"
            ]
          },
          "metadata": {
            "tags": []
          },
          "execution_count": 399
        }
      ]
    },
    {
      "cell_type": "code",
      "metadata": {
        "id": "6FeUTXXDjPw-",
        "colab_type": "code",
        "colab": {}
      },
      "source": [
        "df['Age Bracket'] = pd.to_numeric(df['Age Bracket'].\n",
        "                  astype(str).str.replace(',',''), \n",
        "                  errors='coerce').fillna(0).astype(int)"
      ],
      "execution_count": null,
      "outputs": []
    },
    {
      "cell_type": "code",
      "metadata": {
        "id": "qCFKBbqp2RXB",
        "colab_type": "code",
        "colab": {
          "base_uri": "https://localhost:8080/",
          "height": 1000
        },
        "outputId": "067421f6-d74b-4b18-c386-adbe4b3ca31a"
      },
      "source": [
        "df=df.drop(columns='index');\n",
        "df.head(60)\n"
      ],
      "execution_count": null,
      "outputs": [
        {
          "output_type": "execute_result",
          "data": {
            "text/html": [
              "<div>\n",
              "<style scoped>\n",
              "    .dataframe tbody tr th:only-of-type {\n",
              "        vertical-align: middle;\n",
              "    }\n",
              "\n",
              "    .dataframe tbody tr th {\n",
              "        vertical-align: top;\n",
              "    }\n",
              "\n",
              "    .dataframe thead th {\n",
              "        text-align: right;\n",
              "    }\n",
              "</style>\n",
              "<table border=\"1\" class=\"dataframe\">\n",
              "  <thead>\n",
              "    <tr style=\"text-align: right;\">\n",
              "      <th></th>\n",
              "      <th>Date Announced</th>\n",
              "      <th>Age Bracket</th>\n",
              "      <th>Gender</th>\n",
              "      <th>Num Cases</th>\n",
              "      <th>Current Status</th>\n",
              "      <th>Patient Number</th>\n",
              "    </tr>\n",
              "  </thead>\n",
              "  <tbody>\n",
              "    <tr>\n",
              "      <th>0</th>\n",
              "      <td>30/01/2020</td>\n",
              "      <td>20</td>\n",
              "      <td>F</td>\n",
              "      <td>1.0</td>\n",
              "      <td>Recovered</td>\n",
              "      <td>1.0</td>\n",
              "    </tr>\n",
              "    <tr>\n",
              "      <th>1</th>\n",
              "      <td>02/02/2020</td>\n",
              "      <td>0</td>\n",
              "      <td>NaN</td>\n",
              "      <td>1.0</td>\n",
              "      <td>Recovered</td>\n",
              "      <td>2.0</td>\n",
              "    </tr>\n",
              "    <tr>\n",
              "      <th>2</th>\n",
              "      <td>03/02/2020</td>\n",
              "      <td>0</td>\n",
              "      <td>NaN</td>\n",
              "      <td>1.0</td>\n",
              "      <td>Recovered</td>\n",
              "      <td>3.0</td>\n",
              "    </tr>\n",
              "    <tr>\n",
              "      <th>3</th>\n",
              "      <td>02/03/2020</td>\n",
              "      <td>45</td>\n",
              "      <td>M</td>\n",
              "      <td>1.0</td>\n",
              "      <td>Recovered</td>\n",
              "      <td>4.0</td>\n",
              "    </tr>\n",
              "    <tr>\n",
              "      <th>4</th>\n",
              "      <td>02/03/2020</td>\n",
              "      <td>24</td>\n",
              "      <td>M</td>\n",
              "      <td>1.0</td>\n",
              "      <td>Recovered</td>\n",
              "      <td>5.0</td>\n",
              "    </tr>\n",
              "    <tr>\n",
              "      <th>5</th>\n",
              "      <td>03/03/2020</td>\n",
              "      <td>69</td>\n",
              "      <td>M</td>\n",
              "      <td>1.0</td>\n",
              "      <td>Recovered</td>\n",
              "      <td>6.0</td>\n",
              "    </tr>\n",
              "    <tr>\n",
              "      <th>6</th>\n",
              "      <td>04/03/2020</td>\n",
              "      <td>55</td>\n",
              "      <td>NaN</td>\n",
              "      <td>1.0</td>\n",
              "      <td>Recovered</td>\n",
              "      <td>7.0</td>\n",
              "    </tr>\n",
              "    <tr>\n",
              "      <th>7</th>\n",
              "      <td>04/03/2020</td>\n",
              "      <td>55</td>\n",
              "      <td>NaN</td>\n",
              "      <td>1.0</td>\n",
              "      <td>Recovered</td>\n",
              "      <td>8.0</td>\n",
              "    </tr>\n",
              "    <tr>\n",
              "      <th>8</th>\n",
              "      <td>04/03/2020</td>\n",
              "      <td>55</td>\n",
              "      <td>NaN</td>\n",
              "      <td>1.0</td>\n",
              "      <td>Recovered</td>\n",
              "      <td>9.0</td>\n",
              "    </tr>\n",
              "    <tr>\n",
              "      <th>9</th>\n",
              "      <td>04/03/2020</td>\n",
              "      <td>55</td>\n",
              "      <td>NaN</td>\n",
              "      <td>1.0</td>\n",
              "      <td>Recovered</td>\n",
              "      <td>10.0</td>\n",
              "    </tr>\n",
              "    <tr>\n",
              "      <th>10</th>\n",
              "      <td>04/03/2020</td>\n",
              "      <td>55</td>\n",
              "      <td>NaN</td>\n",
              "      <td>1.0</td>\n",
              "      <td>Recovered</td>\n",
              "      <td>11.0</td>\n",
              "    </tr>\n",
              "    <tr>\n",
              "      <th>11</th>\n",
              "      <td>04/03/2020</td>\n",
              "      <td>55</td>\n",
              "      <td>NaN</td>\n",
              "      <td>1.0</td>\n",
              "      <td>Recovered</td>\n",
              "      <td>12.0</td>\n",
              "    </tr>\n",
              "    <tr>\n",
              "      <th>12</th>\n",
              "      <td>04/03/2020</td>\n",
              "      <td>55</td>\n",
              "      <td>NaN</td>\n",
              "      <td>1.0</td>\n",
              "      <td>Recovered</td>\n",
              "      <td>13.0</td>\n",
              "    </tr>\n",
              "    <tr>\n",
              "      <th>13</th>\n",
              "      <td>04/03/2020</td>\n",
              "      <td>55</td>\n",
              "      <td>NaN</td>\n",
              "      <td>1.0</td>\n",
              "      <td>Recovered</td>\n",
              "      <td>14.0</td>\n",
              "    </tr>\n",
              "    <tr>\n",
              "      <th>14</th>\n",
              "      <td>04/03/2020</td>\n",
              "      <td>55</td>\n",
              "      <td>NaN</td>\n",
              "      <td>1.0</td>\n",
              "      <td>Recovered</td>\n",
              "      <td>15.0</td>\n",
              "    </tr>\n",
              "    <tr>\n",
              "      <th>15</th>\n",
              "      <td>04/03/2020</td>\n",
              "      <td>55</td>\n",
              "      <td>NaN</td>\n",
              "      <td>1.0</td>\n",
              "      <td>Recovered</td>\n",
              "      <td>16.0</td>\n",
              "    </tr>\n",
              "    <tr>\n",
              "      <th>16</th>\n",
              "      <td>04/03/2020</td>\n",
              "      <td>55</td>\n",
              "      <td>NaN</td>\n",
              "      <td>1.0</td>\n",
              "      <td>Recovered</td>\n",
              "      <td>17.0</td>\n",
              "    </tr>\n",
              "    <tr>\n",
              "      <th>17</th>\n",
              "      <td>04/03/2020</td>\n",
              "      <td>55</td>\n",
              "      <td>NaN</td>\n",
              "      <td>1.0</td>\n",
              "      <td>Recovered</td>\n",
              "      <td>18.0</td>\n",
              "    </tr>\n",
              "    <tr>\n",
              "      <th>18</th>\n",
              "      <td>04/03/2020</td>\n",
              "      <td>55</td>\n",
              "      <td>NaN</td>\n",
              "      <td>1.0</td>\n",
              "      <td>Hospitalized</td>\n",
              "      <td>19.0</td>\n",
              "    </tr>\n",
              "    <tr>\n",
              "      <th>19</th>\n",
              "      <td>04/03/2020</td>\n",
              "      <td>55</td>\n",
              "      <td>NaN</td>\n",
              "      <td>1.0</td>\n",
              "      <td>Hospitalized</td>\n",
              "      <td>20.0</td>\n",
              "    </tr>\n",
              "    <tr>\n",
              "      <th>20</th>\n",
              "      <td>04/03/2020</td>\n",
              "      <td>70</td>\n",
              "      <td>F</td>\n",
              "      <td>1.0</td>\n",
              "      <td>Recovered</td>\n",
              "      <td>21.0</td>\n",
              "    </tr>\n",
              "    <tr>\n",
              "      <th>21</th>\n",
              "      <td>04/03/2020</td>\n",
              "      <td>0</td>\n",
              "      <td>M</td>\n",
              "      <td>1.0</td>\n",
              "      <td>Hospitalized</td>\n",
              "      <td>22.0</td>\n",
              "    </tr>\n",
              "    <tr>\n",
              "      <th>22</th>\n",
              "      <td>04/03/2020</td>\n",
              "      <td>0</td>\n",
              "      <td>F</td>\n",
              "      <td>1.0</td>\n",
              "      <td>Recovered</td>\n",
              "      <td>23.0</td>\n",
              "    </tr>\n",
              "    <tr>\n",
              "      <th>23</th>\n",
              "      <td>04/03/2020</td>\n",
              "      <td>45</td>\n",
              "      <td>F</td>\n",
              "      <td>1.0</td>\n",
              "      <td>Recovered</td>\n",
              "      <td>24.0</td>\n",
              "    </tr>\n",
              "    <tr>\n",
              "      <th>24</th>\n",
              "      <td>04/03/2020</td>\n",
              "      <td>0</td>\n",
              "      <td>M</td>\n",
              "      <td>1.0</td>\n",
              "      <td>Recovered</td>\n",
              "      <td>25.0</td>\n",
              "    </tr>\n",
              "    <tr>\n",
              "      <th>25</th>\n",
              "      <td>04/03/2020</td>\n",
              "      <td>16</td>\n",
              "      <td>M</td>\n",
              "      <td>1.0</td>\n",
              "      <td>Recovered</td>\n",
              "      <td>26.0</td>\n",
              "    </tr>\n",
              "    <tr>\n",
              "      <th>26</th>\n",
              "      <td>04/03/2020</td>\n",
              "      <td>0</td>\n",
              "      <td>NaN</td>\n",
              "      <td>1.0</td>\n",
              "      <td>Hospitalized</td>\n",
              "      <td>27.0</td>\n",
              "    </tr>\n",
              "    <tr>\n",
              "      <th>27</th>\n",
              "      <td>04/03/2020</td>\n",
              "      <td>0</td>\n",
              "      <td>NaN</td>\n",
              "      <td>1.0</td>\n",
              "      <td>Hospitalized</td>\n",
              "      <td>28.0</td>\n",
              "    </tr>\n",
              "    <tr>\n",
              "      <th>28</th>\n",
              "      <td>05/03/2020</td>\n",
              "      <td>27</td>\n",
              "      <td>M</td>\n",
              "      <td>1.0</td>\n",
              "      <td>Hospitalized</td>\n",
              "      <td>29.0</td>\n",
              "    </tr>\n",
              "    <tr>\n",
              "      <th>29</th>\n",
              "      <td>05/03/2020</td>\n",
              "      <td>59</td>\n",
              "      <td>M</td>\n",
              "      <td>1.0</td>\n",
              "      <td>Recovered</td>\n",
              "      <td>30.0</td>\n",
              "    </tr>\n",
              "    <tr>\n",
              "      <th>30</th>\n",
              "      <td>06/03/2020</td>\n",
              "      <td>0</td>\n",
              "      <td>NaN</td>\n",
              "      <td>1.0</td>\n",
              "      <td>Recovered</td>\n",
              "      <td>31.0</td>\n",
              "    </tr>\n",
              "    <tr>\n",
              "      <th>31</th>\n",
              "      <td>07/03/2020</td>\n",
              "      <td>65</td>\n",
              "      <td>M</td>\n",
              "      <td>1.0</td>\n",
              "      <td>Hospitalized</td>\n",
              "      <td>32.0</td>\n",
              "    </tr>\n",
              "    <tr>\n",
              "      <th>32</th>\n",
              "      <td>07/03/2020</td>\n",
              "      <td>75</td>\n",
              "      <td>M</td>\n",
              "      <td>1.0</td>\n",
              "      <td>Hospitalized</td>\n",
              "      <td>33.0</td>\n",
              "    </tr>\n",
              "    <tr>\n",
              "      <th>33</th>\n",
              "      <td>07/03/2020</td>\n",
              "      <td>45</td>\n",
              "      <td>M</td>\n",
              "      <td>1.0</td>\n",
              "      <td>Recovered</td>\n",
              "      <td>34.0</td>\n",
              "    </tr>\n",
              "    <tr>\n",
              "      <th>34</th>\n",
              "      <td>08/03/2020</td>\n",
              "      <td>24</td>\n",
              "      <td>M</td>\n",
              "      <td>1.0</td>\n",
              "      <td>Recovered</td>\n",
              "      <td>35.0</td>\n",
              "    </tr>\n",
              "    <tr>\n",
              "      <th>35</th>\n",
              "      <td>08/03/2020</td>\n",
              "      <td>54</td>\n",
              "      <td>M</td>\n",
              "      <td>1.0</td>\n",
              "      <td>Recovered</td>\n",
              "      <td>36.0</td>\n",
              "    </tr>\n",
              "    <tr>\n",
              "      <th>36</th>\n",
              "      <td>08/03/2020</td>\n",
              "      <td>53</td>\n",
              "      <td>F</td>\n",
              "      <td>1.0</td>\n",
              "      <td>Recovered</td>\n",
              "      <td>37.0</td>\n",
              "    </tr>\n",
              "    <tr>\n",
              "      <th>37</th>\n",
              "      <td>08/03/2020</td>\n",
              "      <td>65</td>\n",
              "      <td>M</td>\n",
              "      <td>1.0</td>\n",
              "      <td>Recovered</td>\n",
              "      <td>38.0</td>\n",
              "    </tr>\n",
              "    <tr>\n",
              "      <th>38</th>\n",
              "      <td>08/03/2020</td>\n",
              "      <td>61</td>\n",
              "      <td>F</td>\n",
              "      <td>1.0</td>\n",
              "      <td>Recovered</td>\n",
              "      <td>39.0</td>\n",
              "    </tr>\n",
              "    <tr>\n",
              "      <th>39</th>\n",
              "      <td>09/03/2020</td>\n",
              "      <td>25</td>\n",
              "      <td>F</td>\n",
              "      <td>1.0</td>\n",
              "      <td>Hospitalized</td>\n",
              "      <td>40.0</td>\n",
              "    </tr>\n",
              "    <tr>\n",
              "      <th>40</th>\n",
              "      <td>09/03/2020</td>\n",
              "      <td>63</td>\n",
              "      <td>F</td>\n",
              "      <td>1.0</td>\n",
              "      <td>Hospitalized</td>\n",
              "      <td>41.0</td>\n",
              "    </tr>\n",
              "    <tr>\n",
              "      <th>41</th>\n",
              "      <td>09/03/2020</td>\n",
              "      <td>46</td>\n",
              "      <td>M</td>\n",
              "      <td>1.0</td>\n",
              "      <td>Recovered</td>\n",
              "      <td>42.0</td>\n",
              "    </tr>\n",
              "    <tr>\n",
              "      <th>42</th>\n",
              "      <td>09/03/2020</td>\n",
              "      <td>3</td>\n",
              "      <td>M</td>\n",
              "      <td>1.0</td>\n",
              "      <td>Recovered</td>\n",
              "      <td>43.0</td>\n",
              "    </tr>\n",
              "    <tr>\n",
              "      <th>43</th>\n",
              "      <td>09/03/2020</td>\n",
              "      <td>0</td>\n",
              "      <td>M</td>\n",
              "      <td>1.0</td>\n",
              "      <td>Recovered</td>\n",
              "      <td>44.0</td>\n",
              "    </tr>\n",
              "    <tr>\n",
              "      <th>44</th>\n",
              "      <td>09/03/2020</td>\n",
              "      <td>0</td>\n",
              "      <td>F</td>\n",
              "      <td>1.0</td>\n",
              "      <td>Recovered</td>\n",
              "      <td>45.0</td>\n",
              "    </tr>\n",
              "    <tr>\n",
              "      <th>45</th>\n",
              "      <td>09/03/2020</td>\n",
              "      <td>0</td>\n",
              "      <td>M</td>\n",
              "      <td>1.0</td>\n",
              "      <td>Hospitalized</td>\n",
              "      <td>46.0</td>\n",
              "    </tr>\n",
              "    <tr>\n",
              "      <th>46</th>\n",
              "      <td>09/03/2020</td>\n",
              "      <td>48</td>\n",
              "      <td>M</td>\n",
              "      <td>1.0</td>\n",
              "      <td>Recovered</td>\n",
              "      <td>47.0</td>\n",
              "    </tr>\n",
              "    <tr>\n",
              "      <th>47</th>\n",
              "      <td>09/03/2020</td>\n",
              "      <td>0</td>\n",
              "      <td>NaN</td>\n",
              "      <td>1.0</td>\n",
              "      <td>Hospitalized</td>\n",
              "      <td>48.0</td>\n",
              "    </tr>\n",
              "    <tr>\n",
              "      <th>48</th>\n",
              "      <td>10/03/2020</td>\n",
              "      <td>0</td>\n",
              "      <td>NaN</td>\n",
              "      <td>1.0</td>\n",
              "      <td>Recovered</td>\n",
              "      <td>49.0</td>\n",
              "    </tr>\n",
              "    <tr>\n",
              "      <th>49</th>\n",
              "      <td>10/03/2020</td>\n",
              "      <td>0</td>\n",
              "      <td>NaN</td>\n",
              "      <td>1.0</td>\n",
              "      <td>Hospitalized</td>\n",
              "      <td>50.0</td>\n",
              "    </tr>\n",
              "    <tr>\n",
              "      <th>50</th>\n",
              "      <td>10/03/2020</td>\n",
              "      <td>40</td>\n",
              "      <td>M</td>\n",
              "      <td>1.0</td>\n",
              "      <td>Recovered</td>\n",
              "      <td>51.0</td>\n",
              "    </tr>\n",
              "    <tr>\n",
              "      <th>51</th>\n",
              "      <td>10/03/2020</td>\n",
              "      <td>47</td>\n",
              "      <td>F</td>\n",
              "      <td>1.0</td>\n",
              "      <td>Recovered</td>\n",
              "      <td>52.0</td>\n",
              "    </tr>\n",
              "    <tr>\n",
              "      <th>52</th>\n",
              "      <td>10/03/2020</td>\n",
              "      <td>13</td>\n",
              "      <td>F</td>\n",
              "      <td>1.0</td>\n",
              "      <td>Recovered</td>\n",
              "      <td>53.0</td>\n",
              "    </tr>\n",
              "    <tr>\n",
              "      <th>53</th>\n",
              "      <td>10/03/2020</td>\n",
              "      <td>0</td>\n",
              "      <td>M</td>\n",
              "      <td>1.0</td>\n",
              "      <td>Recovered</td>\n",
              "      <td>54.0</td>\n",
              "    </tr>\n",
              "    <tr>\n",
              "      <th>54</th>\n",
              "      <td>10/03/2020</td>\n",
              "      <td>0</td>\n",
              "      <td>F</td>\n",
              "      <td>1.0</td>\n",
              "      <td>Recovered</td>\n",
              "      <td>55.0</td>\n",
              "    </tr>\n",
              "    <tr>\n",
              "      <th>55</th>\n",
              "      <td>10/03/2020</td>\n",
              "      <td>96</td>\n",
              "      <td>M</td>\n",
              "      <td>1.0</td>\n",
              "      <td>Recovered</td>\n",
              "      <td>56.0</td>\n",
              "    </tr>\n",
              "    <tr>\n",
              "      <th>56</th>\n",
              "      <td>10/03/2020</td>\n",
              "      <td>89</td>\n",
              "      <td>F</td>\n",
              "      <td>1.0</td>\n",
              "      <td>Recovered</td>\n",
              "      <td>57.0</td>\n",
              "    </tr>\n",
              "    <tr>\n",
              "      <th>57</th>\n",
              "      <td>10/03/2020</td>\n",
              "      <td>0</td>\n",
              "      <td>M</td>\n",
              "      <td>1.0</td>\n",
              "      <td>Recovered</td>\n",
              "      <td>58.0</td>\n",
              "    </tr>\n",
              "    <tr>\n",
              "      <th>58</th>\n",
              "      <td>10/03/2020</td>\n",
              "      <td>0</td>\n",
              "      <td>F</td>\n",
              "      <td>1.0</td>\n",
              "      <td>Recovered</td>\n",
              "      <td>59.0</td>\n",
              "    </tr>\n",
              "    <tr>\n",
              "      <th>59</th>\n",
              "      <td>10/03/2020</td>\n",
              "      <td>3</td>\n",
              "      <td>F</td>\n",
              "      <td>1.0</td>\n",
              "      <td>Hospitalized</td>\n",
              "      <td>60.0</td>\n",
              "    </tr>\n",
              "  </tbody>\n",
              "</table>\n",
              "</div>"
            ],
            "text/plain": [
              "   Date Announced  Age Bracket Gender  Num Cases Current Status  Patient Number\n",
              "0      30/01/2020           20      F        1.0      Recovered             1.0\n",
              "1      02/02/2020            0    NaN        1.0      Recovered             2.0\n",
              "2      03/02/2020            0    NaN        1.0      Recovered             3.0\n",
              "3      02/03/2020           45      M        1.0      Recovered             4.0\n",
              "4      02/03/2020           24      M        1.0      Recovered             5.0\n",
              "5      03/03/2020           69      M        1.0      Recovered             6.0\n",
              "6      04/03/2020           55    NaN        1.0      Recovered             7.0\n",
              "7      04/03/2020           55    NaN        1.0      Recovered             8.0\n",
              "8      04/03/2020           55    NaN        1.0      Recovered             9.0\n",
              "9      04/03/2020           55    NaN        1.0      Recovered            10.0\n",
              "10     04/03/2020           55    NaN        1.0      Recovered            11.0\n",
              "11     04/03/2020           55    NaN        1.0      Recovered            12.0\n",
              "12     04/03/2020           55    NaN        1.0      Recovered            13.0\n",
              "13     04/03/2020           55    NaN        1.0      Recovered            14.0\n",
              "14     04/03/2020           55    NaN        1.0      Recovered            15.0\n",
              "15     04/03/2020           55    NaN        1.0      Recovered            16.0\n",
              "16     04/03/2020           55    NaN        1.0      Recovered            17.0\n",
              "17     04/03/2020           55    NaN        1.0      Recovered            18.0\n",
              "18     04/03/2020           55    NaN        1.0   Hospitalized            19.0\n",
              "19     04/03/2020           55    NaN        1.0   Hospitalized            20.0\n",
              "20     04/03/2020           70      F        1.0      Recovered            21.0\n",
              "21     04/03/2020            0      M        1.0   Hospitalized            22.0\n",
              "22     04/03/2020            0      F        1.0      Recovered            23.0\n",
              "23     04/03/2020           45      F        1.0      Recovered            24.0\n",
              "24     04/03/2020            0      M        1.0      Recovered            25.0\n",
              "25     04/03/2020           16      M        1.0      Recovered            26.0\n",
              "26     04/03/2020            0    NaN        1.0   Hospitalized            27.0\n",
              "27     04/03/2020            0    NaN        1.0   Hospitalized            28.0\n",
              "28     05/03/2020           27      M        1.0   Hospitalized            29.0\n",
              "29     05/03/2020           59      M        1.0      Recovered            30.0\n",
              "30     06/03/2020            0    NaN        1.0      Recovered            31.0\n",
              "31     07/03/2020           65      M        1.0   Hospitalized            32.0\n",
              "32     07/03/2020           75      M        1.0   Hospitalized            33.0\n",
              "33     07/03/2020           45      M        1.0      Recovered            34.0\n",
              "34     08/03/2020           24      M        1.0      Recovered            35.0\n",
              "35     08/03/2020           54      M        1.0      Recovered            36.0\n",
              "36     08/03/2020           53      F        1.0      Recovered            37.0\n",
              "37     08/03/2020           65      M        1.0      Recovered            38.0\n",
              "38     08/03/2020           61      F        1.0      Recovered            39.0\n",
              "39     09/03/2020           25      F        1.0   Hospitalized            40.0\n",
              "40     09/03/2020           63      F        1.0   Hospitalized            41.0\n",
              "41     09/03/2020           46      M        1.0      Recovered            42.0\n",
              "42     09/03/2020            3      M        1.0      Recovered            43.0\n",
              "43     09/03/2020            0      M        1.0      Recovered            44.0\n",
              "44     09/03/2020            0      F        1.0      Recovered            45.0\n",
              "45     09/03/2020            0      M        1.0   Hospitalized            46.0\n",
              "46     09/03/2020           48      M        1.0      Recovered            47.0\n",
              "47     09/03/2020            0    NaN        1.0   Hospitalized            48.0\n",
              "48     10/03/2020            0    NaN        1.0      Recovered            49.0\n",
              "49     10/03/2020            0    NaN        1.0   Hospitalized            50.0\n",
              "50     10/03/2020           40      M        1.0      Recovered            51.0\n",
              "51     10/03/2020           47      F        1.0      Recovered            52.0\n",
              "52     10/03/2020           13      F        1.0      Recovered            53.0\n",
              "53     10/03/2020            0      M        1.0      Recovered            54.0\n",
              "54     10/03/2020            0      F        1.0      Recovered            55.0\n",
              "55     10/03/2020           96      M        1.0      Recovered            56.0\n",
              "56     10/03/2020           89      F        1.0      Recovered            57.0\n",
              "57     10/03/2020            0      M        1.0      Recovered            58.0\n",
              "58     10/03/2020            0      F        1.0      Recovered            59.0\n",
              "59     10/03/2020            3      F        1.0   Hospitalized            60.0"
            ]
          },
          "metadata": {
            "tags": []
          },
          "execution_count": 16
        }
      ]
    },
    {
      "cell_type": "code",
      "metadata": {
        "id": "6ErUxS2I_VQU",
        "colab_type": "code",
        "colab": {}
      },
      "source": [
        "df['Date Announced']=pd.to_datetime(df['Date Announced'])\n",
        "df['Date Announced'] = df['Date Announced'].dt.strftime('%d/%m/%Y')"
      ],
      "execution_count": null,
      "outputs": []
    },
    {
      "cell_type": "code",
      "metadata": {
        "id": "uM2GIAbo0D4K",
        "colab_type": "code",
        "colab": {
          "base_uri": "https://localhost:8080/",
          "height": 359
        },
        "outputId": "371a6833-133d-4766-f8cc-9c24dfdaf87f"
      },
      "source": [
        "df['Date Announced']=pd.to_datetime(df['Date Announced'])\n",
        "df['Date Announced'] = df['Date Announced'].dt.strftime('%d/%m/%Y')\n",
        "df.head(5)"
      ],
      "execution_count": null,
      "outputs": [
        {
          "output_type": "execute_result",
          "data": {
            "text/html": [
              "<div>\n",
              "<style scoped>\n",
              "    .dataframe tbody tr th:only-of-type {\n",
              "        vertical-align: middle;\n",
              "    }\n",
              "\n",
              "    .dataframe tbody tr th {\n",
              "        vertical-align: top;\n",
              "    }\n",
              "\n",
              "    .dataframe thead th {\n",
              "        text-align: right;\n",
              "    }\n",
              "</style>\n",
              "<table border=\"1\" class=\"dataframe\">\n",
              "  <thead>\n",
              "    <tr style=\"text-align: right;\">\n",
              "      <th></th>\n",
              "      <th>index</th>\n",
              "      <th>Date Announced</th>\n",
              "      <th>Age Bracket</th>\n",
              "      <th>Gender</th>\n",
              "      <th>Num Cases</th>\n",
              "      <th>Current Status</th>\n",
              "      <th>Patient Number</th>\n",
              "    </tr>\n",
              "  </thead>\n",
              "  <tbody>\n",
              "    <tr>\n",
              "      <th>0</th>\n",
              "      <td>0</td>\n",
              "      <td>30/01/2020</td>\n",
              "      <td>20</td>\n",
              "      <td>F</td>\n",
              "      <td>1.0</td>\n",
              "      <td>Recovered</td>\n",
              "      <td>1.0</td>\n",
              "    </tr>\n",
              "    <tr>\n",
              "      <th>1</th>\n",
              "      <td>1</td>\n",
              "      <td>02/02/2020</td>\n",
              "      <td>NaN</td>\n",
              "      <td>NaN</td>\n",
              "      <td>1.0</td>\n",
              "      <td>Recovered</td>\n",
              "      <td>2.0</td>\n",
              "    </tr>\n",
              "    <tr>\n",
              "      <th>2</th>\n",
              "      <td>2</td>\n",
              "      <td>03/02/2020</td>\n",
              "      <td>NaN</td>\n",
              "      <td>NaN</td>\n",
              "      <td>1.0</td>\n",
              "      <td>Recovered</td>\n",
              "      <td>3.0</td>\n",
              "    </tr>\n",
              "    <tr>\n",
              "      <th>3</th>\n",
              "      <td>3</td>\n",
              "      <td>02/03/2020</td>\n",
              "      <td>45</td>\n",
              "      <td>M</td>\n",
              "      <td>1.0</td>\n",
              "      <td>Recovered</td>\n",
              "      <td>4.0</td>\n",
              "    </tr>\n",
              "    <tr>\n",
              "      <th>4</th>\n",
              "      <td>4</td>\n",
              "      <td>02/03/2020</td>\n",
              "      <td>24</td>\n",
              "      <td>M</td>\n",
              "      <td>1.0</td>\n",
              "      <td>Recovered</td>\n",
              "      <td>5.0</td>\n",
              "    </tr>\n",
              "    <tr>\n",
              "      <th>5</th>\n",
              "      <td>5</td>\n",
              "      <td>03/03/2020</td>\n",
              "      <td>69</td>\n",
              "      <td>M</td>\n",
              "      <td>1.0</td>\n",
              "      <td>Recovered</td>\n",
              "      <td>6.0</td>\n",
              "    </tr>\n",
              "    <tr>\n",
              "      <th>6</th>\n",
              "      <td>6</td>\n",
              "      <td>04/03/2020</td>\n",
              "      <td>55</td>\n",
              "      <td>NaN</td>\n",
              "      <td>1.0</td>\n",
              "      <td>Recovered</td>\n",
              "      <td>7.0</td>\n",
              "    </tr>\n",
              "    <tr>\n",
              "      <th>7</th>\n",
              "      <td>7</td>\n",
              "      <td>04/03/2020</td>\n",
              "      <td>55</td>\n",
              "      <td>NaN</td>\n",
              "      <td>1.0</td>\n",
              "      <td>Recovered</td>\n",
              "      <td>8.0</td>\n",
              "    </tr>\n",
              "    <tr>\n",
              "      <th>8</th>\n",
              "      <td>8</td>\n",
              "      <td>04/03/2020</td>\n",
              "      <td>55</td>\n",
              "      <td>NaN</td>\n",
              "      <td>1.0</td>\n",
              "      <td>Recovered</td>\n",
              "      <td>9.0</td>\n",
              "    </tr>\n",
              "    <tr>\n",
              "      <th>9</th>\n",
              "      <td>9</td>\n",
              "      <td>04/03/2020</td>\n",
              "      <td>55</td>\n",
              "      <td>NaN</td>\n",
              "      <td>1.0</td>\n",
              "      <td>Recovered</td>\n",
              "      <td>10.0</td>\n",
              "    </tr>\n",
              "  </tbody>\n",
              "</table>\n",
              "</div>"
            ],
            "text/plain": [
              "   index Date Announced Age Bracket  ... Num Cases  Current Status Patient Number\n",
              "0      0     30/01/2020          20  ...       1.0       Recovered            1.0\n",
              "1      1     02/02/2020         NaN  ...       1.0       Recovered            2.0\n",
              "2      2     03/02/2020         NaN  ...       1.0       Recovered            3.0\n",
              "3      3     02/03/2020          45  ...       1.0       Recovered            4.0\n",
              "4      4     02/03/2020          24  ...       1.0       Recovered            5.0\n",
              "5      5     03/03/2020          69  ...       1.0       Recovered            6.0\n",
              "6      6     04/03/2020          55  ...       1.0       Recovered            7.0\n",
              "7      7     04/03/2020          55  ...       1.0       Recovered            8.0\n",
              "8      8     04/03/2020          55  ...       1.0       Recovered            9.0\n",
              "9      9     04/03/2020          55  ...       1.0       Recovered           10.0\n",
              "\n",
              "[10 rows x 7 columns]"
            ]
          },
          "metadata": {
            "tags": []
          },
          "execution_count": 394
        }
      ]
    },
    {
      "cell_type": "code",
      "metadata": {
        "id": "6p1N8RO9_ZyM",
        "colab_type": "code",
        "colab": {
          "base_uri": "https://localhost:8080/",
          "height": 419
        },
        "outputId": "a4993b79-c961-47b3-8082-702c1c66b59e"
      },
      "source": [
        "df.tail(10)"
      ],
      "execution_count": null,
      "outputs": [
        {
          "output_type": "execute_result",
          "data": {
            "text/html": [
              "<div>\n",
              "<style scoped>\n",
              "    .dataframe tbody tr th:only-of-type {\n",
              "        vertical-align: middle;\n",
              "    }\n",
              "\n",
              "    .dataframe tbody tr th {\n",
              "        vertical-align: top;\n",
              "    }\n",
              "\n",
              "    .dataframe thead th {\n",
              "        text-align: right;\n",
              "    }\n",
              "</style>\n",
              "<table border=\"1\" class=\"dataframe\">\n",
              "  <thead>\n",
              "    <tr style=\"text-align: right;\">\n",
              "      <th></th>\n",
              "      <th>Date Announced</th>\n",
              "      <th>Age Bracket</th>\n",
              "      <th>Gender</th>\n",
              "      <th>Num Cases</th>\n",
              "      <th>Current Status</th>\n",
              "      <th>Patient Number</th>\n",
              "      <th>Infected</th>\n",
              "      <th>Recovered</th>\n",
              "      <th>Death</th>\n",
              "      <th>Total Infected</th>\n",
              "      <th>Total Recovered</th>\n",
              "      <th>Total Deaths</th>\n",
              "    </tr>\n",
              "  </thead>\n",
              "  <tbody>\n",
              "    <tr>\n",
              "      <th>92388</th>\n",
              "      <td>2020-06-14</td>\n",
              "      <td>0</td>\n",
              "      <td>NaN</td>\n",
              "      <td>15.0</td>\n",
              "      <td>Recovered</td>\n",
              "      <td>93528.0</td>\n",
              "      <td>0</td>\n",
              "      <td>0</td>\n",
              "      <td>0</td>\n",
              "      <td>2.0</td>\n",
              "      <td>1.0</td>\n",
              "      <td>1.0</td>\n",
              "    </tr>\n",
              "    <tr>\n",
              "      <th>92389</th>\n",
              "      <td>2020-06-14</td>\n",
              "      <td>0</td>\n",
              "      <td>NaN</td>\n",
              "      <td>13.0</td>\n",
              "      <td>Recovered</td>\n",
              "      <td>93529.0</td>\n",
              "      <td>0</td>\n",
              "      <td>0</td>\n",
              "      <td>0</td>\n",
              "      <td>2.0</td>\n",
              "      <td>1.0</td>\n",
              "      <td>1.0</td>\n",
              "    </tr>\n",
              "    <tr>\n",
              "      <th>92390</th>\n",
              "      <td>2020-06-14</td>\n",
              "      <td>0</td>\n",
              "      <td>NaN</td>\n",
              "      <td>11.0</td>\n",
              "      <td>Recovered</td>\n",
              "      <td>93530.0</td>\n",
              "      <td>0</td>\n",
              "      <td>0</td>\n",
              "      <td>0</td>\n",
              "      <td>2.0</td>\n",
              "      <td>1.0</td>\n",
              "      <td>1.0</td>\n",
              "    </tr>\n",
              "    <tr>\n",
              "      <th>92391</th>\n",
              "      <td>2020-06-14</td>\n",
              "      <td>0</td>\n",
              "      <td>NaN</td>\n",
              "      <td>4.0</td>\n",
              "      <td>Recovered</td>\n",
              "      <td>93531.0</td>\n",
              "      <td>0</td>\n",
              "      <td>0</td>\n",
              "      <td>0</td>\n",
              "      <td>2.0</td>\n",
              "      <td>1.0</td>\n",
              "      <td>1.0</td>\n",
              "    </tr>\n",
              "    <tr>\n",
              "      <th>92392</th>\n",
              "      <td>2020-06-14</td>\n",
              "      <td>0</td>\n",
              "      <td>NaN</td>\n",
              "      <td>8.0</td>\n",
              "      <td>Recovered</td>\n",
              "      <td>93532.0</td>\n",
              "      <td>0</td>\n",
              "      <td>0</td>\n",
              "      <td>0</td>\n",
              "      <td>2.0</td>\n",
              "      <td>1.0</td>\n",
              "      <td>1.0</td>\n",
              "    </tr>\n",
              "    <tr>\n",
              "      <th>...</th>\n",
              "      <td>...</td>\n",
              "      <td>...</td>\n",
              "      <td>...</td>\n",
              "      <td>...</td>\n",
              "      <td>...</td>\n",
              "      <td>...</td>\n",
              "      <td>...</td>\n",
              "      <td>...</td>\n",
              "      <td>...</td>\n",
              "      <td>...</td>\n",
              "      <td>...</td>\n",
              "      <td>...</td>\n",
              "    </tr>\n",
              "    <tr>\n",
              "      <th>92453</th>\n",
              "      <td>NaT</td>\n",
              "      <td>0</td>\n",
              "      <td>NaN</td>\n",
              "      <td>NaN</td>\n",
              "      <td>NaN</td>\n",
              "      <td>93593.0</td>\n",
              "      <td>0</td>\n",
              "      <td>0</td>\n",
              "      <td>0</td>\n",
              "      <td>2.0</td>\n",
              "      <td>1.0</td>\n",
              "      <td>1.0</td>\n",
              "    </tr>\n",
              "    <tr>\n",
              "      <th>92454</th>\n",
              "      <td>NaT</td>\n",
              "      <td>0</td>\n",
              "      <td>NaN</td>\n",
              "      <td>NaN</td>\n",
              "      <td>NaN</td>\n",
              "      <td>93594.0</td>\n",
              "      <td>0</td>\n",
              "      <td>0</td>\n",
              "      <td>0</td>\n",
              "      <td>2.0</td>\n",
              "      <td>1.0</td>\n",
              "      <td>1.0</td>\n",
              "    </tr>\n",
              "    <tr>\n",
              "      <th>92455</th>\n",
              "      <td>NaT</td>\n",
              "      <td>0</td>\n",
              "      <td>NaN</td>\n",
              "      <td>NaN</td>\n",
              "      <td>NaN</td>\n",
              "      <td>93595.0</td>\n",
              "      <td>0</td>\n",
              "      <td>0</td>\n",
              "      <td>0</td>\n",
              "      <td>2.0</td>\n",
              "      <td>1.0</td>\n",
              "      <td>1.0</td>\n",
              "    </tr>\n",
              "    <tr>\n",
              "      <th>92456</th>\n",
              "      <td>NaT</td>\n",
              "      <td>0</td>\n",
              "      <td>NaN</td>\n",
              "      <td>NaN</td>\n",
              "      <td>NaN</td>\n",
              "      <td>93596.0</td>\n",
              "      <td>0</td>\n",
              "      <td>0</td>\n",
              "      <td>0</td>\n",
              "      <td>2.0</td>\n",
              "      <td>1.0</td>\n",
              "      <td>1.0</td>\n",
              "    </tr>\n",
              "    <tr>\n",
              "      <th>92457</th>\n",
              "      <td>NaT</td>\n",
              "      <td>0</td>\n",
              "      <td>NaN</td>\n",
              "      <td>NaN</td>\n",
              "      <td>NaN</td>\n",
              "      <td>93597.0</td>\n",
              "      <td>0</td>\n",
              "      <td>0</td>\n",
              "      <td>0</td>\n",
              "      <td>2.0</td>\n",
              "      <td>1.0</td>\n",
              "      <td>1.0</td>\n",
              "    </tr>\n",
              "  </tbody>\n",
              "</table>\n",
              "<p>70 rows × 12 columns</p>\n",
              "</div>"
            ],
            "text/plain": [
              "      Date Announced  Age Bracket  ... Total Recovered  Total Deaths\n",
              "92388     2020-06-14            0  ...             1.0           1.0\n",
              "92389     2020-06-14            0  ...             1.0           1.0\n",
              "92390     2020-06-14            0  ...             1.0           1.0\n",
              "92391     2020-06-14            0  ...             1.0           1.0\n",
              "92392     2020-06-14            0  ...             1.0           1.0\n",
              "...              ...          ...  ...             ...           ...\n",
              "92453            NaT            0  ...             1.0           1.0\n",
              "92454            NaT            0  ...             1.0           1.0\n",
              "92455            NaT            0  ...             1.0           1.0\n",
              "92456            NaT            0  ...             1.0           1.0\n",
              "92457            NaT            0  ...             1.0           1.0\n",
              "\n",
              "[70 rows x 12 columns]"
            ]
          },
          "metadata": {
            "tags": []
          },
          "execution_count": 430
        }
      ]
    },
    {
      "cell_type": "code",
      "metadata": {
        "id": "hq3iq5trdTqE",
        "colab_type": "code",
        "colab": {}
      },
      "source": [
        "count=0;\n",
        "df[\"Infected\"]=0;\n",
        "df[\"Recovered\"]=0;\n",
        "df[\"Death\"]=0;\n",
        "value=0\n",
        "for item in df['Age Bracket']:\n",
        "  if ((item>=35)  and (item<=50)):\n",
        "    if(df['Current Status'][count]=='Hospitalized'):\n",
        "      df['Infected'][count]=1;\n",
        "      \n",
        "    if(df['Current Status'][count]=='Recovered'):\n",
        "      df['Recovered'][count]=1;\n",
        "  \n",
        "    if(df['Current Status'][count]=='Deceased'):\n",
        "      df['Death'][count]=1;\n",
        "\n",
        "  count=count+1"
      ],
      "execution_count": null,
      "outputs": []
    },
    {
      "cell_type": "code",
      "metadata": {
        "id": "kU19eSz8VEJT",
        "colab_type": "code",
        "colab": {}
      },
      "source": [
        "df[\"Total Infected\"]=0;\n",
        "df[\"Total Recovered\"]=0;\n",
        "df[\"Total Deaths\"]=0;\n",
        "count=0;\n",
        "for item in df['Current Status']:\n",
        "  if(item=='Hospitalized'):\n",
        "    df[\"Total Infected\"][count]=df['Num Cases'][count];\n",
        "\n",
        "  if(item=='Recovered'):\n",
        "    df[\"Total Recovered\"][count]=df[\"Num Cases\"][count];\n",
        "\n",
        "  if(item=='Deceased'):\n",
        "    df[\"Total Deaths\"][count]=df[\"Num Cases\"][count];\n",
        "  \n",
        "  count=count+1;"
      ],
      "execution_count": null,
      "outputs": []
    },
    {
      "cell_type": "code",
      "metadata": {
        "id": "atDooyGDteKj",
        "colab_type": "code",
        "colab": {}
      },
      "source": [
        "final.drop(final.tail(1).index,inplace=True) # drop last n rows"
      ],
      "execution_count": null,
      "outputs": []
    },
    {
      "cell_type": "code",
      "metadata": {
        "id": "8yHLbwYGxvH1",
        "colab_type": "code",
        "colab": {
          "base_uri": "https://localhost:8080/",
          "height": 390
        },
        "outputId": "987178a5-c9e6-41a8-b3c2-16835f48900d"
      },
      "source": [
        "df['Date Announced']=pd.to_datetime(df['Date Announced'])\n",
        "final = df.groupby('Date Announced')[\"Date Announced\",\"Infected\",\"Recovered\",\n",
        "\"Death\",\"Total Infected\",\"Total Recovered\",\"Total Deaths\"].sum()\n",
        "final.reset_index()\n",
        "final.tail(10)"
      ],
      "execution_count": null,
      "outputs": [
        {
          "output_type": "execute_result",
          "data": {
            "text/html": [
              "<div>\n",
              "<style scoped>\n",
              "    .dataframe tbody tr th:only-of-type {\n",
              "        vertical-align: middle;\n",
              "    }\n",
              "\n",
              "    .dataframe tbody tr th {\n",
              "        vertical-align: top;\n",
              "    }\n",
              "\n",
              "    .dataframe thead th {\n",
              "        text-align: right;\n",
              "    }\n",
              "</style>\n",
              "<table border=\"1\" class=\"dataframe\">\n",
              "  <thead>\n",
              "    <tr style=\"text-align: right;\">\n",
              "      <th></th>\n",
              "      <th>Infected</th>\n",
              "      <th>Recovered</th>\n",
              "      <th>Death</th>\n",
              "      <th>Total Infected</th>\n",
              "      <th>Total Recovered</th>\n",
              "      <th>Total Deaths</th>\n",
              "    </tr>\n",
              "    <tr>\n",
              "      <th>Date Announced</th>\n",
              "      <th></th>\n",
              "      <th></th>\n",
              "      <th></th>\n",
              "      <th></th>\n",
              "      <th></th>\n",
              "      <th></th>\n",
              "    </tr>\n",
              "  </thead>\n",
              "  <tbody>\n",
              "    <tr>\n",
              "      <th>2020-06-06</th>\n",
              "      <td>197</td>\n",
              "      <td>0</td>\n",
              "      <td>2</td>\n",
              "      <td>10408</td>\n",
              "      <td>5433.0</td>\n",
              "      <td>297</td>\n",
              "    </tr>\n",
              "    <tr>\n",
              "      <th>2020-06-07</th>\n",
              "      <td>110</td>\n",
              "      <td>0</td>\n",
              "      <td>3</td>\n",
              "      <td>10882</td>\n",
              "      <td>5191.0</td>\n",
              "      <td>261</td>\n",
              "    </tr>\n",
              "    <tr>\n",
              "      <th>2020-06-08</th>\n",
              "      <td>133</td>\n",
              "      <td>0</td>\n",
              "      <td>2</td>\n",
              "      <td>8536</td>\n",
              "      <td>5171.0</td>\n",
              "      <td>271</td>\n",
              "    </tr>\n",
              "    <tr>\n",
              "      <th>2020-06-09</th>\n",
              "      <td>101</td>\n",
              "      <td>0</td>\n",
              "      <td>0</td>\n",
              "      <td>9981</td>\n",
              "      <td>5634.0</td>\n",
              "      <td>272</td>\n",
              "    </tr>\n",
              "    <tr>\n",
              "      <th>2020-06-10</th>\n",
              "      <td>105</td>\n",
              "      <td>0</td>\n",
              "      <td>1</td>\n",
              "      <td>11156</td>\n",
              "      <td>6275.0</td>\n",
              "      <td>358</td>\n",
              "    </tr>\n",
              "    <tr>\n",
              "      <th>2020-06-11</th>\n",
              "      <td>126</td>\n",
              "      <td>2</td>\n",
              "      <td>8</td>\n",
              "      <td>11135</td>\n",
              "      <td>6044.0</td>\n",
              "      <td>394</td>\n",
              "    </tr>\n",
              "    <tr>\n",
              "      <th>2020-06-12</th>\n",
              "      <td>104</td>\n",
              "      <td>1</td>\n",
              "      <td>2</td>\n",
              "      <td>11306</td>\n",
              "      <td>7263.0</td>\n",
              "      <td>388</td>\n",
              "    </tr>\n",
              "    <tr>\n",
              "      <th>2020-06-13</th>\n",
              "      <td>119</td>\n",
              "      <td>0</td>\n",
              "      <td>0</td>\n",
              "      <td>12039</td>\n",
              "      <td>8092.0</td>\n",
              "      <td>309</td>\n",
              "    </tr>\n",
              "    <tr>\n",
              "      <th>2020-06-14</th>\n",
              "      <td>104</td>\n",
              "      <td>0</td>\n",
              "      <td>2</td>\n",
              "      <td>11378</td>\n",
              "      <td>7356.0</td>\n",
              "      <td>321</td>\n",
              "    </tr>\n",
              "    <tr>\n",
              "      <th>2020-06-15</th>\n",
              "      <td>0</td>\n",
              "      <td>0</td>\n",
              "      <td>0</td>\n",
              "      <td>-189</td>\n",
              "      <td>65.0</td>\n",
              "      <td>3</td>\n",
              "    </tr>\n",
              "  </tbody>\n",
              "</table>\n",
              "</div>"
            ],
            "text/plain": [
              "                Infected  Recovered  ...  Total Recovered  Total Deaths\n",
              "Date Announced                       ...                               \n",
              "2020-06-06           197          0  ...           5433.0           297\n",
              "2020-06-07           110          0  ...           5191.0           261\n",
              "2020-06-08           133          0  ...           5171.0           271\n",
              "2020-06-09           101          0  ...           5634.0           272\n",
              "2020-06-10           105          0  ...           6275.0           358\n",
              "2020-06-11           126          2  ...           6044.0           394\n",
              "2020-06-12           104          1  ...           7263.0           388\n",
              "2020-06-13           119          0  ...           8092.0           309\n",
              "2020-06-14           104          0  ...           7356.0           321\n",
              "2020-06-15             0          0  ...             65.0             3\n",
              "\n",
              "[10 rows x 6 columns]"
            ]
          },
          "metadata": {
            "tags": []
          },
          "execution_count": 20
        }
      ]
    },
    {
      "cell_type": "code",
      "metadata": {
        "id": "F_OK7fvML1AB",
        "colab_type": "code",
        "colab": {
          "base_uri": "https://localhost:8080/",
          "height": 235
        },
        "outputId": "ebc6694a-89f5-4751-e2de-23e56a830b66"
      },
      "source": [
        "final['Infected Increase']=0\n",
        "final['Death Increase']=0\n",
        "final['Recovered Increase']=0\n",
        "final['Infected Increase'][0]=0\n",
        "final['Death Increase'][0]=0\n",
        "final['Recovered Increase'][0]=0\n",
        "for i in range(1,final.shape[0]):\n",
        "    final['Infected Increase'][i]=+(final['Infected Increase'][i-1]+final.iloc[i][0])\n",
        "    final['Death Increase'][i]=+(final['Death Increase'][i-1]+final.iloc[i][2])\n",
        "    final['Recovered Increase'][i]=+(final['Recovered Increase'][i-1]+final.iloc[i][1])\n",
        "final.tail(5)"
      ],
      "execution_count": null,
      "outputs": [
        {
          "output_type": "execute_result",
          "data": {
            "text/html": [
              "<div>\n",
              "<style scoped>\n",
              "    .dataframe tbody tr th:only-of-type {\n",
              "        vertical-align: middle;\n",
              "    }\n",
              "\n",
              "    .dataframe tbody tr th {\n",
              "        vertical-align: top;\n",
              "    }\n",
              "\n",
              "    .dataframe thead th {\n",
              "        text-align: right;\n",
              "    }\n",
              "</style>\n",
              "<table border=\"1\" class=\"dataframe\">\n",
              "  <thead>\n",
              "    <tr style=\"text-align: right;\">\n",
              "      <th></th>\n",
              "      <th>Infected</th>\n",
              "      <th>Recovered</th>\n",
              "      <th>Death</th>\n",
              "      <th>Total Infected</th>\n",
              "      <th>Total Recovered</th>\n",
              "      <th>Total Deaths</th>\n",
              "      <th>Infected Increase</th>\n",
              "      <th>Death Increase</th>\n",
              "      <th>Recovered Increase</th>\n",
              "    </tr>\n",
              "    <tr>\n",
              "      <th>Date Announced</th>\n",
              "      <th></th>\n",
              "      <th></th>\n",
              "      <th></th>\n",
              "      <th></th>\n",
              "      <th></th>\n",
              "      <th></th>\n",
              "      <th></th>\n",
              "      <th></th>\n",
              "      <th></th>\n",
              "    </tr>\n",
              "  </thead>\n",
              "  <tbody>\n",
              "    <tr>\n",
              "      <th>2020-06-10</th>\n",
              "      <td>105</td>\n",
              "      <td>0</td>\n",
              "      <td>1</td>\n",
              "      <td>286926</td>\n",
              "      <td>134623.0</td>\n",
              "      <td>7272</td>\n",
              "      <td>10052</td>\n",
              "      <td>91</td>\n",
              "      <td>39</td>\n",
              "    </tr>\n",
              "    <tr>\n",
              "      <th>2020-06-11</th>\n",
              "      <td>126</td>\n",
              "      <td>2</td>\n",
              "      <td>8</td>\n",
              "      <td>298061</td>\n",
              "      <td>140667.0</td>\n",
              "      <td>7666</td>\n",
              "      <td>10178</td>\n",
              "      <td>99</td>\n",
              "      <td>41</td>\n",
              "    </tr>\n",
              "    <tr>\n",
              "      <th>2020-06-12</th>\n",
              "      <td>104</td>\n",
              "      <td>1</td>\n",
              "      <td>2</td>\n",
              "      <td>309367</td>\n",
              "      <td>147930.0</td>\n",
              "      <td>8054</td>\n",
              "      <td>10282</td>\n",
              "      <td>101</td>\n",
              "      <td>42</td>\n",
              "    </tr>\n",
              "    <tr>\n",
              "      <th>2020-06-13</th>\n",
              "      <td>119</td>\n",
              "      <td>0</td>\n",
              "      <td>0</td>\n",
              "      <td>321406</td>\n",
              "      <td>156022.0</td>\n",
              "      <td>8363</td>\n",
              "      <td>10401</td>\n",
              "      <td>101</td>\n",
              "      <td>42</td>\n",
              "    </tr>\n",
              "    <tr>\n",
              "      <th>2020-06-14</th>\n",
              "      <td>104</td>\n",
              "      <td>0</td>\n",
              "      <td>2</td>\n",
              "      <td>332784</td>\n",
              "      <td>163378.0</td>\n",
              "      <td>8684</td>\n",
              "      <td>10505</td>\n",
              "      <td>103</td>\n",
              "      <td>42</td>\n",
              "    </tr>\n",
              "  </tbody>\n",
              "</table>\n",
              "</div>"
            ],
            "text/plain": [
              "                Infected  Recovered  ...  Death Increase  Recovered Increase\n",
              "Date Announced                       ...                                    \n",
              "2020-06-10           105          0  ...              91                  39\n",
              "2020-06-11           126          2  ...              99                  41\n",
              "2020-06-12           104          1  ...             101                  42\n",
              "2020-06-13           119          0  ...             101                  42\n",
              "2020-06-14           104          0  ...             103                  42\n",
              "\n",
              "[5 rows x 9 columns]"
            ]
          },
          "metadata": {
            "tags": []
          },
          "execution_count": 25
        }
      ]
    },
    {
      "cell_type": "code",
      "metadata": {
        "id": "zRWEZQoLtq34",
        "colab_type": "code",
        "colab": {}
      },
      "source": [
        "#final['Infected Increase']=0\n",
        "#final['Death Increase']=0\n",
        "##final['Recovered Increase']=0\n",
        "#final['Infected Increase'][0]=0\n",
        "#final['Death Increase'][0]=0\n",
        "#final['Recovered Increase'][0]=0\n",
        "for i in range(1,final.shape[0]):\n",
        "    final['Total Infected'][i]=(final['Total Infected'][i-1]+final.iloc[i][3])\n",
        "    final['Total Deaths'][i]=(final['Total Deaths'][i-1]+final.iloc[i][5])\n",
        "    final['Total Recovered'][i]=(final['Total Recovered'][i-1]+final.iloc[i][4])\n",
        "final.tail(5)"
      ],
      "execution_count": null,
      "outputs": []
    },
    {
      "cell_type": "code",
      "metadata": {
        "id": "U_A_-5FcWu3z",
        "colab_type": "code",
        "colab": {}
      },
      "source": [
        "import numpy as np\n",
        "import csv\n",
        "from numpy import array\n",
        "import matplotlib.pyplot as plt\n",
        "from scipy.interpolate import make_interp_spline, BSpline\n",
        "import statistics\n",
        "from scipy.integrate import odeint\n",
        "%matplotlib inline \n",
        "import pandas as pd\n",
        "import os\n",
        "import re\n",
        "import seaborn as sns\n",
        "import math\n",
        "import bokeh \n",
        "import matplotlib.pyplot as plt\n",
        "from bokeh.layouts import gridplot\n",
        "from bokeh.plotting import figure, show, output_file\n",
        "from bokeh.layouts import row, column\n",
        "from bokeh.models import Span"
      ],
      "execution_count": null,
      "outputs": []
    },
    {
      "cell_type": "code",
      "metadata": {
        "id": "oAEKDEsDa--C",
        "colab_type": "code",
        "colab": {
          "base_uri": "https://localhost:8080/",
          "height": 35
        },
        "outputId": "dc0b7bc5-b9e8-40b6-bdc9-149162bce9b0"
      },
      "source": [
        "num_plot.shape[0]\n"
      ],
      "execution_count": null,
      "outputs": [
        {
          "output_type": "execute_result",
          "data": {
            "text/plain": [
              "108"
            ]
          },
          "metadata": {
            "tags": []
          },
          "execution_count": 456
        }
      ]
    },
    {
      "cell_type": "code",
      "metadata": {
        "id": "z_KQmFn-XFTH",
        "colab_type": "code",
        "colab": {
          "base_uri": "https://localhost:8080/",
          "height": 404
        },
        "outputId": "9d687d8d-750e-4442-9bac-411a360d75d0"
      },
      "source": [
        "num_plot = final.groupby('Date Announced')[\"Infected Increase\"].sum()\n",
        "fig = plt.figure(facecolor='w',figsize=(14,6)) # creating a plot figure\n",
        "ax = fig.add_subplot(111, axisbelow=True,facecolor='#222831')\n",
        "cols = np.linspace(1, 108, 108)\n",
        "ax.plot(cols,num_plot, color='#ff9770', linestyle='dashed',lw=3)\n",
        "plt.title('35-50 Age Group - India')\n",
        "plt.xlabel('Days'); plt.ylabel('Number of Cases');\n",
        "plt.legend(['Confirmed Cases'])\n",
        "plt.show()"
      ],
      "execution_count": null,
      "outputs": [
        {
          "output_type": "display_data",
          "data": {
            "image/png": "[encoded data removed]",
            "text/plain": [
              "<Figure size 1008x432 with 1 Axes>"
            ]
          },
          "metadata": {
            "tags": []
          }
        }
      ]
    },
    {
      "cell_type": "code",
      "metadata": {
        "id": "3iAkidk7xMU-",
        "colab_type": "code",
        "colab": {
          "base_uri": "https://localhost:8080/",
          "height": 404
        },
        "outputId": "07df77a9-fc68-451b-b916-34b9fc90a3b6"
      },
      "source": [
        "num_plot = final.groupby('Date Announced')[\"Recovered Increase\", \"Death Increase\"].sum()\n",
        "fig = plt.figure(facecolor='w',figsize=(14,6)) # creating a plot figure\n",
        "ax = fig.add_subplot(111, axisbelow=True,facecolor='#222831')\n",
        "cols = np.linspace(1, 108, 108)\n",
        "ax.plot(cols,num_plot[\"Recovered Increase\"], color='#b7efcd', linestyle='dashed',lw=3)\n",
        "ax.plot(cols,num_plot[\"Death Increase\"], color='#ff427f', linestyle='dashed',lw=3)\n",
        "plt.title('35-50 Age Group - India')\n",
        "plt.xlabel('Days'); plt.ylabel('Number of Cases');\n",
        "plt.legend(['Recovered Cases','Deaths'])\n",
        "plt.show()"
      ],
      "execution_count": null,
      "outputs": [
        {
          "output_type": "display_data",
          "data": {
            "image/png": "[encoded data removed]",
            "text/plain": [
              "<Figure size 1008x432 with 1 Axes>"
            ]
          },
          "metadata": {
            "tags": []
          }
        }
      ]
    },
    {
      "cell_type": "code",
      "metadata": {
        "id": "8rhT1UkIljP_",
        "colab_type": "code",
        "colab": {
          "base_uri": "https://localhost:8080/",
          "height": 404
        },
        "outputId": "1ad33b26-b7b3-4250-8682-66eb0551d77f"
      },
      "source": [
        "num_plot = final.groupby('Date Announced')[\"Total Infected\",\"Total Recovered\", \"Total Deaths\"].sum()\n",
        "fig = plt.figure(facecolor='w',figsize=(14,6)) # creating a plot figure\n",
        "ax = fig.add_subplot(111, axisbelow=True,facecolor='#222831')\n",
        "cols = np.linspace(1, 108, 108)\n",
        "ax.plot(cols,num_plot[\"Total Infected\"], color='#ff9770', linestyle='dashed',lw=3)\n",
        "ax.plot(cols,num_plot[\"Total Recovered\"], color='#b7efcd', linestyle='dashed',lw=3)\n",
        "ax.plot(cols,num_plot[\"Total Deaths\"], color='#ff427f', linestyle='dashed',lw=3)\n",
        "plt.title('35-50 Age Group - India')\n",
        "plt.xlabel('Days'); plt.ylabel('Number of Cases');\n",
        "plt.legend(['Infected','Recovered Cases','Deaths'])\n",
        "plt.show()"
      ],
      "execution_count": null,
      "outputs": [
        {
          "output_type": "display_data",
          "data": {
            "image/png": "[encoded data removed]",
            "text/plain": [
              "<Figure size 1008x432 with 1 Axes>"
            ]
          },
          "metadata": {
            "tags": []
          }
        }
      ]
    },
    {
      "cell_type": "code",
      "metadata": {
        "id": "vjQ3n9Ygoz4N",
        "colab_type": "code",
        "colab": {}
      },
      "source": [
        "infection_rate=[]\n",
        "for i in range(0,final.shape[0]):\n",
        "  infection_rate.append((final['Infected Increase'][i]/final['Total Infected'][i])*100)"
      ],
      "execution_count": null,
      "outputs": []
    },
    {
      "cell_type": "code",
      "metadata": {
        "id": "P83NeO6ooWGq",
        "colab_type": "code",
        "colab": {
          "base_uri": "https://localhost:8080/",
          "height": 408
        },
        "outputId": "a8b46673-39bf-4639-b91c-a8ae862042b6"
      },
      "source": [
        "#calculating the infection rate\n",
        "infection_rate=[]\n",
        "for i in range(0,final.shape[0]):\n",
        "  infection_rate.append((\n",
        "  final['Infected Increase'][i]/final['Total Infected'][i])*100)\n",
        "#plotting the infection rate\n",
        "matplotlib.style.use('ggplot')\n",
        "fig = plt.figure(facecolor='w',figsize=(14,6)) # creating a plot figure\n",
        "ax = fig.add_subplot(111, axisbelow=True,facecolor='#87bba2')\n",
        "cols = np.linspace(1, 108, 108)\n",
        "ax.bar(cols,infection_rate,color='#2f3e46')\n",
        "ax.set_title('Infection Rate for 35-50 : India')\n",
        "ax.set_xlabel('Days')\n",
        "ax.set_ylabel('Infection Rate %')\n",
        "plt.show()"
      ],
      "execution_count": null,
      "outputs": [
        {
          "output_type": "display_data",
          "data": {
            "image/png": "[encoded data removed]",
            "text/plain": [
              "<Figure size 1008x432 with 1 Axes>"
            ]
          },
          "metadata": {
            "tags": []
          }
        }
      ]
    },
    {
      "cell_type": "code",
      "metadata": {
        "id": "bd50iiCzqE92",
        "colab_type": "code",
        "colab": {
          "base_uri": "https://localhost:8080/",
          "height": 408
        },
        "outputId": "54b3ae1c-a785-490b-e179-307fff75ec9e"
      },
      "source": [
        "#calculating the death rate\n",
        "death_rate=[]\n",
        "for i in range(0,final.shape[0]):\n",
        "  death_rate.append((\n",
        "  final['Death Increase'][i]/final['Total Deaths'][i])*100)\n",
        "#plotting the death rate\n",
        "matplotlib.style.use('ggplot')\n",
        "fig = plt.figure(facecolor='w',figsize=(14,6)) # creating a plot figure\n",
        "ax = fig.add_subplot(111, axisbelow=True,facecolor='#87bba2')\n",
        "cols = np.linspace(1, 108, 108)\n",
        "ax.bar(cols,death_rate,color='#2f3e46')\n",
        "ax.set_title('Death Rate for 35-50 : India')\n",
        "ax.set_xlabel('Days')\n",
        "ax.set_ylabel('Death Rate %')\n",
        "plt.show()"
      ],
      "execution_count": null,
      "outputs": [
        {
          "output_type": "display_data",
          "data": {
            "image/png": "[encoded data removed]",
            "text/plain": [
              "<Figure size 1008x432 with 1 Axes>"
            ]
          },
          "metadata": {
            "tags": []
          }
        }
      ]
    },
    {
      "cell_type": "code",
      "metadata": {
        "id": "n0mR_GpwRyec",
        "colab_type": "code",
        "colab": {
          "base_uri": "https://localhost:8080/",
          "height": 251
        },
        "outputId": "0145019a-ee07-4136-af41-d28b2f9063cf"
      },
      "source": [
        "!pip install pmdarima"
      ],
      "execution_count": null,
      "outputs": [
        {
          "output_type": "stream",
          "text": [
            "Requirement already satisfied: pmdarima in /usr/local/lib/python3.6/dist-packages (1.6.1)\n",
            "Requirement already satisfied: joblib>=0.11 in /usr/local/lib/python3.6/dist-packages (from pmdarima) (0.15.1)\n",
            "Requirement already satisfied: scipy>=1.3.2 in /usr/local/lib/python3.6/dist-packages (from pmdarima) (1.4.1)\n",
            "Requirement already satisfied: statsmodels>=0.11 in /usr/local/lib/python3.6/dist-packages (from pmdarima) (0.11.1)\n",
            "Requirement already satisfied: urllib3 in /usr/local/lib/python3.6/dist-packages (from pmdarima) (1.24.3)\n",
            "Requirement already satisfied: Cython<0.29.18,>=0.29 in /usr/local/lib/python3.6/dist-packages (from pmdarima) (0.29.17)\n",
            "Requirement already satisfied: numpy>=1.17.3 in /usr/local/lib/python3.6/dist-packages (from pmdarima) (1.18.5)\n",
            "Requirement already satisfied: scikit-learn>=0.22 in /usr/local/lib/python3.6/dist-packages (from pmdarima) (0.22.2.post1)\n",
            "Requirement already satisfied: pandas>=0.19 in /usr/local/lib/python3.6/dist-packages (from pmdarima) (1.0.4)\n",
            "Requirement already satisfied: patsy>=0.5 in /usr/local/lib/python3.6/dist-packages (from statsmodels>=0.11->pmdarima) (0.5.1)\n",
            "Requirement already satisfied: python-dateutil>=2.6.1 in /usr/local/lib/python3.6/dist-packages (from pandas>=0.19->pmdarima) (2.8.1)\n",
            "Requirement already satisfied: pytz>=2017.2 in /usr/local/lib/python3.6/dist-packages (from pandas>=0.19->pmdarima) (2018.9)\n",
            "Requirement already satisfied: six in /usr/local/lib/python3.6/dist-packages (from patsy>=0.5->statsmodels>=0.11->pmdarima) (1.12.0)\n"
          ],
          "name": "stdout"
        }
      ]
    },
    {
      "cell_type": "code",
      "metadata": {
        "id": "kh3zCdYBt1br",
        "colab_type": "code",
        "colab": {}
      },
      "source": [
        "import numpy as np \n",
        "import pandas as pd\n",
        "import os\n",
        "from numpy import log\n",
        "from pandas import DataFrame\n",
        "from sklearn.preprocessing import LabelEncoder\n",
        "import warnings\n",
        "warnings.filterwarnings('ignore')\n",
        "from datetime import date"
      ],
      "execution_count": null,
      "outputs": []
    },
    {
      "cell_type": "code",
      "metadata": {
        "id": "e6x0M0QmyjE7",
        "colab_type": "code",
        "colab": {}
      },
      "source": [
        "import pmdarima as pm\n",
        "from pandas.plotting import lag_plot\n",
        "from pandas.plotting import autocorrelation_plot\n",
        "from statsmodels.graphics.tsaplots import plot_acf, plot_pacf\n",
        "from statsmodels.tsa.arima_model import ARIMA\n",
        "import datetime\n",
        "import matplotlib.pyplot as plt\n",
        "from statsmodels.tsa.stattools import adfuller\n",
        "%matplotlib inline \n",
        "import matplotlib\n",
        "import seaborn as sns"
      ],
      "execution_count": null,
      "outputs": []
    },
    {
      "cell_type": "code",
      "metadata": {
        "id": "KBhEMk51bC6b",
        "colab_type": "code",
        "colab": {}
      },
      "source": [
        "def plot_prediction(arima_df,train):\n",
        "  plt.figure(figsize=(10, 5))\n",
        "  plt.title('Per Day Prediction With 95% Confidence Interval')\n",
        "  plt.plot(arima_df['Date'], arima_df['Predicted'],'r')\n",
        "  plt.fill_between(arima_df['Date'],arima_df['Interval_lower'], arima_df['Interval_upper'])\n",
        "  plt.plot(train['ds'], train['y'])\n",
        "  plt.show()"
      ],
      "execution_count": null,
      "outputs": []
    },
    {
      "cell_type": "code",
      "metadata": {
        "id": "Qd6ISE3NwvGw",
        "colab_type": "code",
        "colab": {}
      },
      "source": [
        "def arima_forecast(forecast,prediction_dates):\n",
        "  pred=pd.DataFrame(forecast[0],columns=['Predicted'])\n",
        "  std_err=pd.DataFrame(forecast[1],columns=['Std Error'])\n",
        "  pred_upper=pd.DataFrame(forecast[2][:,1],columns=['Interval_upper'])\n",
        "  pred_lower=pd.DataFrame(forecast[2][:,0],columns=['Interval_lower'])\n",
        "  dates=pd.DataFrame(prediction_dates,columns=['Date'])\n",
        "  arima1=pd.merge(dates,pred,right_index=True,left_index=True)\n",
        "  arima2=pd.merge(pred_lower,pred_upper,right_index=True,left_index=True)\n",
        "  arima3=pd.merge(arima1,std_err,right_index=True,left_index=True)\n",
        "  arima_df=pd.merge(arima3,arima2,right_index=True,left_index=True)\n",
        "  print(arima_df.tail(30))\n",
        "  return arima_df"
      ],
      "execution_count": null,
      "outputs": []
    },
    {
      "cell_type": "code",
      "metadata": {
        "id": "UaOkOzlywXel",
        "colab_type": "code",
        "colab": {}
      },
      "source": [
        "def build_arima(train,order_dim,step_size):\n",
        "  arima = ARIMA(endog=train['y'],order=order_dim) # endogenous variable as y\n",
        "  #We shall use the Maximum liklihood function for maximixation rather than the default\n",
        "  #We shall use the solver as conjugate gradient due to its faster converging rate\n",
        "  arima = arima.fit(trend='nc', full_output=True, disp=True,transparams=True,solver='cg',maxiter=1000,method='mle')\n",
        "  #for forecasting the future cases\n",
        "  forecast = arima.forecast(steps=step_size)\n",
        "  pred = list(forecast[0])\n",
        "  start_date = train['ds'].max()\n",
        "  prediction_dates = []\n",
        "  for i in range(step_size):\n",
        "    date = start_date + datetime.timedelta(days=1)\n",
        "    prediction_dates.append(date)\n",
        "    start_date = date\n",
        "  return arima,forecast,prediction_dates\n"
      ],
      "execution_count": null,
      "outputs": []
    },
    {
      "cell_type": "code",
      "metadata": {
        "id": "UDVflogpyy6J",
        "colab_type": "code",
        "colab": {}
      },
      "source": [
        "def plot_lags(train):\n",
        "  f = plt.figure(figsize=(25,15))\n",
        "  ax1 = f.add_subplot(321,title='LAG 1')\n",
        "  lag_plot(train['y'],lag=1)\n",
        "  ax2 = f.add_subplot(322,title='LAG 2')\n",
        "  lag_plot(train['y'],lag=2)\n",
        "  ax3 = f.add_subplot(323,title='LAG 3')\n",
        "  lag_plot(train['y'],lag=3)\n",
        "  ax4 = f.add_subplot(324,title='LAG 4')\n",
        "  lag_plot(train['y'],lag=4)\n",
        "  ax5 = f.add_subplot(325,title='LAG 5')\n",
        "  lag_plot(train['y'],lag=5)\n",
        "  ax6 = f.add_subplot(326,title='LAG 6')\n",
        "  lag_plot(train['y'],lag=6)"
      ],
      "execution_count": null,
      "outputs": []
    },
    {
      "cell_type": "code",
      "metadata": {
        "id": "Su0AaMD0GtoB",
        "colab_type": "code",
        "colab": {}
      },
      "source": [
        "def autocorr_diff(train):\n",
        "  plt.rcParams.update({'figure.figsize':(9,7), 'figure.dpi':120})\n",
        "# Original Series\n",
        "  fig, axes = plt.subplots(3, 2, sharex=True)\n",
        "  axes[0, 0].plot(train['y']); axes[0, 0].set_title('Original Series')\n",
        "  plot_acf(train['y'], ax=axes[0, 1])\n",
        "# 1st Differencing\n",
        "  axes[1, 0].plot(train['y'].diff()); axes[1, 0].set_title('1st Order Differencing')\n",
        "  plot_acf(train['y'].diff().dropna(), ax=axes[1, 1])\n",
        "# 2nd Differencing\n",
        "  axes[2, 0].plot(train['y'].diff().diff()); axes[2, 0].set_title('2nd Order Differencing')\n",
        "  plot_acf(train['y'].diff().diff().dropna(), ax=axes[2, 1])\n",
        "  plt.show()"
      ],
      "execution_count": null,
      "outputs": []
    },
    {
      "cell_type": "code",
      "metadata": {
        "id": "udv5E4swIlDX",
        "colab_type": "code",
        "colab": {}
      },
      "source": [
        "def pvalue_test(train):\n",
        "  result_original = adfuller(train['y'].dropna())\n",
        "  print('ADF Statistic for original: %f' % result_original[0])\n",
        "  print('p-value for original: %f' % result_original[1])\n",
        "\n",
        "  result_1st_order = adfuller(train['y'].diff().dropna())\n",
        "  print('ADF Statistic for 1st Order Diff: %f' % result_1st_order[0])\n",
        "  print('p-value for 1st Order Diff: %f' % result_1st_order[1])\n",
        "\n",
        "  result_2nd_order = adfuller(train['y'].diff().diff().dropna())\n",
        "  print('ADF Statistic for 2nd Order Diff: %f' % result_2nd_order[0])\n",
        "  print('p-value for 2nd Order Diff: %f' % result_2nd_order[1])"
      ],
      "execution_count": null,
      "outputs": []
    },
    {
      "cell_type": "code",
      "metadata": {
        "id": "SOTXolFbXZYq",
        "colab_type": "code",
        "colab": {}
      },
      "source": [
        "def acf_plot(train):\n",
        "  fig, axes = plt.subplots(3, sharex=True,figsize=(15,7))\n",
        "  plot_acf(train['y'], ax=axes[0],title='AutoCorrelation - Original')\n",
        "  plot_acf(train['y'].diff().dropna(), ax=axes[1],title='AutoCorrelation - 1st Order')\n",
        "  plot_acf(train['y'].diff().diff().dropna(), ax=axes[2],title='AutoCorrelation - 2nd Order')"
      ],
      "execution_count": null,
      "outputs": []
    },
    {
      "cell_type": "code",
      "metadata": {
        "id": "zdn1668iZIRC",
        "colab_type": "code",
        "colab": {}
      },
      "source": [
        "def pacf_plot(train):\n",
        "  fig, axes = plt.subplots(3, 1, sharex=True,figsize=(15,7))\n",
        "  plot_pacf(train['y'], lags=20,ax=axes[0],title='Original')\n",
        "  plot_pacf(train['y'].diff().dropna(), lags=20,ax=axes[1],title='1st order')\n",
        "  plot_pacf(train['y'].diff().diff().dropna(), lags=20,ax=axes[2],title='2nd order')"
      ],
      "execution_count": null,
      "outputs": []
    },
    {
      "cell_type": "code",
      "metadata": {
        "id": "yWoibkMJoAAm",
        "colab_type": "code",
        "colab": {}
      },
      "source": [
        "def diff_plot(train):\n",
        "  fig, axes = plt.subplots(3, 1, sharex=True,figsize=(15,7))\n",
        "  axes[0].plot(train['y']); axes[0].set_title('Original')\n",
        "  axes[1].plot(train['y'].diff()); axes[1].set_title('1st Differencing')\n",
        "  axes[2].plot(train['y'].diff().diff()); axes[2].set_title('2nd Differencing')"
      ],
      "execution_count": null,
      "outputs": []
    },
    {
      "cell_type": "code",
      "metadata": {
        "id": "GCTsv1es9pH1",
        "colab_type": "code",
        "colab": {}
      },
      "source": [
        "def autocorr_plot(train):\n",
        "  fig, axes = plt.subplots(3, 1, sharex=True,figsize=(20,10))\n",
        "  autocorrelation_plot(train['y'],ax=axes[0]); axes[0].set_title('Original')\n",
        "  autocorrelation_plot(train['y'].diff().dropna());axes[1].set_title('1st Differencing')\n",
        "  autocorrelation_plot(train['y'].diff().diff().dropna());axes[2].set_title('2nd Differencing')"
      ],
      "execution_count": null,
      "outputs": []
    },
    {
      "cell_type": "code",
      "metadata": {
        "id": "q_P-_ITP2R6v",
        "colab_type": "code",
        "colab": {}
      },
      "source": [
        "def autocorr_plot(train):\n",
        "  autocorrelation_plot(train['y']);"
      ],
      "execution_count": null,
      "outputs": []
    },
    {
      "cell_type": "code",
      "metadata": {
        "id": "bj5bC99lwfAY",
        "colab_type": "code",
        "colab": {}
      },
      "source": [
        "def show_residuals(arima):\n",
        "  print(arima.summary())\n",
        "#plot residual errors\n",
        "  residuals = DataFrame(arima.resid)\n",
        "  residuals.plot(figsize= (10,5))\n",
        "  plt.show()\n",
        "  residuals.plot(kind='kde',figsize= (10,5))\n",
        "  plt.show()\n",
        "  autocorrelation_plot(residuals)\n",
        "  plt.show()\n",
        "  print(residuals.describe())"
      ],
      "execution_count": null,
      "outputs": []
    },
    {
      "cell_type": "code",
      "metadata": {
        "id": "dVmn9GV1wBS-",
        "colab_type": "code",
        "colab": {}
      },
      "source": [
        "def train_rename(train,test,name):\n",
        "  train.rename(columns={\"Date Announced\":\"ds\",name:\"y\"},inplace=True)\n",
        "  test.rename(columns={\"Date Announced\":\"ds\",name:\"y\"},inplace=True)\n",
        "  test = test.set_index(\"ds\")\n",
        "  test = test['y']"
      ],
      "execution_count": null,
      "outputs": []
    },
    {
      "cell_type": "code",
      "metadata": {
        "id": "r2EaR-NXBSGD",
        "colab_type": "code",
        "colab": {}
      },
      "source": [
        "def gridSearch(train):\n",
        "  model = pm.auto_arima(train['y'], start_p=1, start_q=1,\n",
        "          test='adf',       # using adftest to find optimal 'p' and 'q'\n",
        "          max_p=4, max_q=5, # maximum p and q\n",
        "          m=1,              # frequency of series\n",
        "          d=2,           \n",
        "          seasonal=False,   # No Seasonality\n",
        "          start_P=0, \n",
        "          D=0, \n",
        "          trace=True,\n",
        "          error_action='ignore',  \n",
        "          suppress_warnings=True, \n",
        "          stepwise=False)\n",
        "  print(model.summary())"
      ],
      "execution_count": null,
      "outputs": []
    },
    {
      "cell_type": "code",
      "metadata": {
        "id": "C4Pzt1MmzppG",
        "colab_type": "code",
        "colab": {
          "base_uri": "https://localhost:8080/",
          "height": 419
        },
        "outputId": "c376f621-e11e-4671-cde7-a5d1a7a96a97"
      },
      "source": [
        "final"
      ],
      "execution_count": null,
      "outputs": [
        {
          "output_type": "execute_result",
          "data": {
            "text/html": [
              "<div>\n",
              "<style scoped>\n",
              "    .dataframe tbody tr th:only-of-type {\n",
              "        vertical-align: middle;\n",
              "    }\n",
              "\n",
              "    .dataframe tbody tr th {\n",
              "        vertical-align: top;\n",
              "    }\n",
              "\n",
              "    .dataframe thead th {\n",
              "        text-align: right;\n",
              "    }\n",
              "</style>\n",
              "<table border=\"1\" class=\"dataframe\">\n",
              "  <thead>\n",
              "    <tr style=\"text-align: right;\">\n",
              "      <th></th>\n",
              "      <th>Date Announced</th>\n",
              "      <th>Infected</th>\n",
              "      <th>Recovered</th>\n",
              "      <th>Death</th>\n",
              "      <th>Total Infected</th>\n",
              "      <th>Total Recovered</th>\n",
              "      <th>Total Deaths</th>\n",
              "      <th>Infected Increase</th>\n",
              "      <th>Death Increase</th>\n",
              "      <th>Recovered Increase</th>\n",
              "    </tr>\n",
              "  </thead>\n",
              "  <tbody>\n",
              "    <tr>\n",
              "      <th>0</th>\n",
              "      <td>2020-01-30</td>\n",
              "      <td>0</td>\n",
              "      <td>0</td>\n",
              "      <td>0</td>\n",
              "      <td>0</td>\n",
              "      <td>1.0</td>\n",
              "      <td>0</td>\n",
              "      <td>0</td>\n",
              "      <td>0</td>\n",
              "      <td>0</td>\n",
              "    </tr>\n",
              "    <tr>\n",
              "      <th>1</th>\n",
              "      <td>2020-02-02</td>\n",
              "      <td>0</td>\n",
              "      <td>0</td>\n",
              "      <td>0</td>\n",
              "      <td>0</td>\n",
              "      <td>2.0</td>\n",
              "      <td>0</td>\n",
              "      <td>0</td>\n",
              "      <td>0</td>\n",
              "      <td>0</td>\n",
              "    </tr>\n",
              "    <tr>\n",
              "      <th>2</th>\n",
              "      <td>2020-02-03</td>\n",
              "      <td>0</td>\n",
              "      <td>0</td>\n",
              "      <td>0</td>\n",
              "      <td>0</td>\n",
              "      <td>3.0</td>\n",
              "      <td>0</td>\n",
              "      <td>0</td>\n",
              "      <td>0</td>\n",
              "      <td>0</td>\n",
              "    </tr>\n",
              "    <tr>\n",
              "      <th>3</th>\n",
              "      <td>2020-03-02</td>\n",
              "      <td>0</td>\n",
              "      <td>1</td>\n",
              "      <td>0</td>\n",
              "      <td>0</td>\n",
              "      <td>5.0</td>\n",
              "      <td>0</td>\n",
              "      <td>0</td>\n",
              "      <td>0</td>\n",
              "      <td>1</td>\n",
              "    </tr>\n",
              "    <tr>\n",
              "      <th>4</th>\n",
              "      <td>2020-03-03</td>\n",
              "      <td>0</td>\n",
              "      <td>0</td>\n",
              "      <td>0</td>\n",
              "      <td>0</td>\n",
              "      <td>6.0</td>\n",
              "      <td>0</td>\n",
              "      <td>0</td>\n",
              "      <td>0</td>\n",
              "      <td>1</td>\n",
              "    </tr>\n",
              "    <tr>\n",
              "      <th>...</th>\n",
              "      <td>...</td>\n",
              "      <td>...</td>\n",
              "      <td>...</td>\n",
              "      <td>...</td>\n",
              "      <td>...</td>\n",
              "      <td>...</td>\n",
              "      <td>...</td>\n",
              "      <td>...</td>\n",
              "      <td>...</td>\n",
              "      <td>...</td>\n",
              "    </tr>\n",
              "    <tr>\n",
              "      <th>103</th>\n",
              "      <td>2020-06-10</td>\n",
              "      <td>105</td>\n",
              "      <td>0</td>\n",
              "      <td>1</td>\n",
              "      <td>286926</td>\n",
              "      <td>134623.0</td>\n",
              "      <td>7272</td>\n",
              "      <td>10052</td>\n",
              "      <td>91</td>\n",
              "      <td>39</td>\n",
              "    </tr>\n",
              "    <tr>\n",
              "      <th>104</th>\n",
              "      <td>2020-06-11</td>\n",
              "      <td>126</td>\n",
              "      <td>2</td>\n",
              "      <td>8</td>\n",
              "      <td>298061</td>\n",
              "      <td>140667.0</td>\n",
              "      <td>7666</td>\n",
              "      <td>10178</td>\n",
              "      <td>99</td>\n",
              "      <td>41</td>\n",
              "    </tr>\n",
              "    <tr>\n",
              "      <th>105</th>\n",
              "      <td>2020-06-12</td>\n",
              "      <td>104</td>\n",
              "      <td>1</td>\n",
              "      <td>2</td>\n",
              "      <td>309367</td>\n",
              "      <td>147930.0</td>\n",
              "      <td>8054</td>\n",
              "      <td>10282</td>\n",
              "      <td>101</td>\n",
              "      <td>42</td>\n",
              "    </tr>\n",
              "    <tr>\n",
              "      <th>106</th>\n",
              "      <td>2020-06-13</td>\n",
              "      <td>119</td>\n",
              "      <td>0</td>\n",
              "      <td>0</td>\n",
              "      <td>321406</td>\n",
              "      <td>156022.0</td>\n",
              "      <td>8363</td>\n",
              "      <td>10401</td>\n",
              "      <td>101</td>\n",
              "      <td>42</td>\n",
              "    </tr>\n",
              "    <tr>\n",
              "      <th>107</th>\n",
              "      <td>2020-06-14</td>\n",
              "      <td>104</td>\n",
              "      <td>0</td>\n",
              "      <td>2</td>\n",
              "      <td>332784</td>\n",
              "      <td>163378.0</td>\n",
              "      <td>8684</td>\n",
              "      <td>10505</td>\n",
              "      <td>103</td>\n",
              "      <td>42</td>\n",
              "    </tr>\n",
              "  </tbody>\n",
              "</table>\n",
              "<p>108 rows × 10 columns</p>\n",
              "</div>"
            ],
            "text/plain": [
              "    Date Announced  Infected  ...  Death Increase  Recovered Increase\n",
              "0       2020-01-30         0  ...               0                   0\n",
              "1       2020-02-02         0  ...               0                   0\n",
              "2       2020-02-03         0  ...               0                   0\n",
              "3       2020-03-02         0  ...               0                   1\n",
              "4       2020-03-03         0  ...               0                   1\n",
              "..             ...       ...  ...             ...                 ...\n",
              "103     2020-06-10       105  ...              91                  39\n",
              "104     2020-06-11       126  ...              99                  41\n",
              "105     2020-06-12       104  ...             101                  42\n",
              "106     2020-06-13       119  ...             101                  42\n",
              "107     2020-06-14       104  ...             103                  42\n",
              "\n",
              "[108 rows x 10 columns]"
            ]
          },
          "metadata": {
            "tags": []
          },
          "execution_count": 78
        }
      ]
    },
    {
      "cell_type": "code",
      "metadata": {
        "id": "7I3he2PV58qv",
        "colab_type": "code",
        "colab": {}
      },
      "source": [
        "#number days to use for testing:\n",
        "days=1;\n",
        "# number of future outcomes for prediction\n",
        "future=50;"
      ],
      "execution_count": null,
      "outputs": []
    },
    {
      "cell_type": "code",
      "metadata": {
        "id": "XfK3rcXjCt3S",
        "colab_type": "code",
        "colab": {
          "base_uri": "https://localhost:8080/",
          "height": 286
        },
        "outputId": "d4b5db95-e945-4f4e-b200-e9602ac56a33"
      },
      "source": [
        "autocorr_plot(train_dead)"
      ],
      "execution_count": null,
      "outputs": [
        {
          "output_type": "display_data",
          "data": {
            "image/png": "[encoded data removed]",
            "text/plain": [
              "<Figure size 432x288 with 1 Axes>"
            ]
          },
          "metadata": {
            "tags": [],
            "needs_background": "light"
          }
        }
      ]
    },
    {
      "cell_type": "code",
      "metadata": {
        "id": "6ONVM9JuDsk-",
        "colab_type": "code",
        "colab": {
          "base_uri": "https://localhost:8080/",
          "height": 172
        },
        "outputId": "9c5e0be8-ab47-4b3a-aceb-dc4e8a9a591a"
      },
      "source": [
        "plot_lags(train_dead)"
      ],
      "execution_count": null,
      "outputs": [
        {
          "output_type": "error",
          "ename": "NameError",
          "evalue": "ignored",
          "traceback": [
            "\u001b[0;31m---------------------------------------------------------------------------\u001b[0m",
            "\u001b[0;31mNameError\u001b[0m                                 Traceback (most recent call last)",
            "\u001b[0;32m<ipython-input-84-4188f500c4a6>\u001b[0m in \u001b[0;36m<module>\u001b[0;34m()\u001b[0m\n\u001b[0;32m----> 1\u001b[0;31m \u001b[0mplot_lags\u001b[0m\u001b[0;34m(\u001b[0m\u001b[0mtrain_dead\u001b[0m\u001b[0;34m)\u001b[0m\u001b[0;34m\u001b[0m\u001b[0;34m\u001b[0m\u001b[0m\n\u001b[0m",
            "\u001b[0;31mNameError\u001b[0m: name 'train_dead' is not defined"
          ]
        }
      ]
    },
    {
      "cell_type": "code",
      "metadata": {
        "id": "8wPnLLciF0aR",
        "colab_type": "code",
        "colab": {
          "base_uri": "https://localhost:8080/",
          "height": 445
        },
        "outputId": "5c86f307-34b5-4d8a-fc67-a3b90d0f8c86"
      },
      "source": [
        "diff_plot(train_dead)"
      ],
      "execution_count": null,
      "outputs": [
        {
          "output_type": "display_data",
          "data": {
            "image/png": "[encoded data removed]",
            "text/plain": [
              "<Figure size 1080x504 with 3 Axes>"
            ]
          },
          "metadata": {
            "tags": [],
            "needs_background": "light"
          }
        }
      ]
    },
    {
      "cell_type": "code",
      "metadata": {
        "id": "pQlEGPE6HMkH",
        "colab_type": "code",
        "colab": {
          "base_uri": "https://localhost:8080/",
          "height": 125
        },
        "outputId": "d51f2d57-1b20-41da-f4f8-4e2aa2ce18c8"
      },
      "source": [
        "pvalue_test(train_dead)"
      ],
      "execution_count": null,
      "outputs": [
        {
          "output_type": "stream",
          "text": [
            "ADF Statistic for original: 0.974041\n",
            "p-value for original: 0.993984\n",
            "ADF Statistic for 1st Order Diff: -2.940335\n",
            "p-value for 1st Order Diff: 0.040855\n",
            "ADF Statistic for 2nd Order Diff: -5.348178\n",
            "p-value for 2nd Order Diff: 0.000004\n"
          ],
          "name": "stdout"
        }
      ]
    },
    {
      "cell_type": "code",
      "metadata": {
        "id": "fzm06p7tJPLZ",
        "colab_type": "code",
        "colab": {
          "base_uri": "https://localhost:8080/",
          "height": 445
        },
        "outputId": "f18e215e-3226-4ab3-99c6-62dfc721f5d5"
      },
      "source": [
        "acf_plot(train_dead)"
      ],
      "execution_count": null,
      "outputs": [
        {
          "output_type": "display_data",
          "data": {
            "image/png": "[encoded data removed]",
            "text/plain": [
              "<Figure size 1080x504 with 3 Axes>"
            ]
          },
          "metadata": {
            "tags": [],
            "needs_background": "light"
          }
        }
      ]
    },
    {
      "cell_type": "code",
      "metadata": {
        "id": "Wjtb0L_OJbXh",
        "colab_type": "code",
        "colab": {
          "base_uri": "https://localhost:8080/",
          "height": 445
        },
        "outputId": "08ac9944-c50b-4e9f-d052-d6cad00197d3"
      },
      "source": [
        "pacf_plot(train_dead)"
      ],
      "execution_count": null,
      "outputs": [
        {
          "output_type": "display_data",
          "data": {
            "image/png": "[encoded data removed]",
            "text/plain": [
              "<Figure size 1080x504 with 3 Axes>"
            ]
          },
          "metadata": {
            "tags": [],
            "needs_background": "light"
          }
        }
      ]
    },
    {
      "cell_type": "code",
      "metadata": {
        "id": "S_9q1swXi9Tc",
        "colab_type": "code",
        "colab": {
          "base_uri": "https://localhost:8080/",
          "height": 863
        },
        "outputId": "a82bfc75-ec84-4ef4-a035-628e839cbc8f"
      },
      "source": [
        "gridSearch(train_conf)"
      ],
      "execution_count": null,
      "outputs": [
        {
          "output_type": "stream",
          "text": [
            "Fit ARIMA(0,2,0)x(0,0,0,0) [intercept=True]; AIC=1188.790, BIC=1194.117, Time=0.015 seconds\n",
            "Fit ARIMA(0,2,1)x(0,0,0,0) [intercept=True]; AIC=1158.275, BIC=1166.265, Time=0.082 seconds\n",
            "Fit ARIMA(0,2,2)x(0,0,0,0) [intercept=True]; AIC=1159.346, BIC=1170.000, Time=0.133 seconds\n",
            "Fit ARIMA(0,2,3)x(0,0,0,0) [intercept=True]; AIC=1155.475, BIC=1168.792, Time=0.184 seconds\n",
            "Fit ARIMA(0,2,4)x(0,0,0,0) [intercept=True]; AIC=1157.447, BIC=1173.428, Time=0.207 seconds\n",
            "Fit ARIMA(0,2,5)x(0,0,0,0) [intercept=True]; AIC=1158.528, BIC=1177.172, Time=0.337 seconds\n",
            "Fit ARIMA(1,2,0)x(0,0,0,0) [intercept=True]; AIC=1155.852, BIC=1163.842, Time=0.044 seconds\n",
            "Fit ARIMA(1,2,1)x(0,0,0,0) [intercept=True]; AIC=1157.600, BIC=1168.254, Time=0.077 seconds\n",
            "Fit ARIMA(1,2,2)x(0,0,0,0) [intercept=True]; AIC=1158.485, BIC=1171.802, Time=0.141 seconds\n",
            "Fit ARIMA(1,2,3)x(0,0,0,0) [intercept=True]; AIC=1157.463, BIC=1173.444, Time=0.224 seconds\n",
            "Fit ARIMA(1,2,4)x(0,0,0,0) [intercept=True]; AIC=1157.854, BIC=1176.498, Time=0.475 seconds\n",
            "Fit ARIMA(2,2,0)x(0,0,0,0) [intercept=True]; AIC=1157.688, BIC=1168.342, Time=0.072 seconds\n",
            "Fit ARIMA(2,2,1)x(0,0,0,0) [intercept=True]; AIC=1157.878, BIC=1171.195, Time=0.181 seconds\n",
            "Fit ARIMA(2,2,2)x(0,0,0,0) [intercept=True]; AIC=1159.362, BIC=1175.343, Time=0.261 seconds\n",
            "Fit ARIMA(2,2,3)x(0,0,0,0) [intercept=True]; AIC=1155.793, BIC=1174.437, Time=0.492 seconds\n",
            "Fit ARIMA(3,2,0)x(0,0,0,0) [intercept=True]; AIC=1159.106, BIC=1172.423, Time=0.097 seconds\n",
            "Fit ARIMA(3,2,1)x(0,0,0,0) [intercept=True]; AIC=1158.848, BIC=1174.829, Time=0.181 seconds\n",
            "Fit ARIMA(3,2,2)x(0,0,0,0) [intercept=True]; AIC=1160.779, BIC=1179.423, Time=0.378 seconds\n",
            "Fit ARIMA(4,2,0)x(0,0,0,0) [intercept=True]; AIC=1157.980, BIC=1173.960, Time=0.123 seconds\n",
            "Fit ARIMA(4,2,1)x(0,0,0,0) [intercept=True]; AIC=1158.605, BIC=1177.249, Time=0.239 seconds\n",
            "Total fit time: 3.950 seconds\n",
            "                               SARIMAX Results                                \n",
            "==============================================================================\n",
            "Dep. Variable:                      y   No. Observations:                  108\n",
            "Model:               SARIMAX(0, 2, 3)   Log Likelihood                -572.737\n",
            "Date:                Mon, 15 Jun 2020   AIC                           1155.475\n",
            "Time:                        07:41:41   BIC                           1168.792\n",
            "Sample:                             0   HQIC                          1160.872\n",
            "                                - 108                                         \n",
            "Covariance Type:                  opg                                         \n",
            "==============================================================================\n",
            "                 coef    std err          z      P>|z|      [0.025      0.975]\n",
            "------------------------------------------------------------------------------\n",
            "intercept      1.1041      3.326      0.332      0.740      -5.415       7.623\n",
            "ma.L1         -0.5781      0.062     -9.338      0.000      -0.699      -0.457\n",
            "ma.L2          0.2658      0.083      3.197      0.001       0.103       0.429\n",
            "ma.L3         -0.2308      0.090     -2.578      0.010      -0.406      -0.055\n",
            "sigma2      2875.9634    221.996     12.955      0.000    2440.860    3311.067\n",
            "===================================================================================\n",
            "Ljung-Box (Q):                       45.21   Jarque-Bera (JB):               772.93\n",
            "Prob(Q):                              0.26   Prob(JB):                         0.00\n",
            "Heteroskedasticity (H):              23.77   Skew:                            -2.28\n",
            "Prob(H) (two-sided):                  0.00   Kurtosis:                        15.42\n",
            "===================================================================================\n",
            "\n",
            "Warnings:\n",
            "[1] Covariance matrix calculated using the outer product of gradients (complex-step).\n"
          ],
          "name": "stdout"
        }
      ]
    },
    {
      "cell_type": "code",
      "metadata": {
        "id": "iJsN7vYT3tTO",
        "colab_type": "code",
        "colab": {
          "base_uri": "https://localhost:8080/",
          "height": 419
        },
        "outputId": "06fae129-3f62-4394-b4c9-94c64a345c44"
      },
      "source": [
        "final"
      ],
      "execution_count": null,
      "outputs": [
        {
          "output_type": "execute_result",
          "data": {
            "text/html": [
              "<div>\n",
              "<style scoped>\n",
              "    .dataframe tbody tr th:only-of-type {\n",
              "        vertical-align: middle;\n",
              "    }\n",
              "\n",
              "    .dataframe tbody tr th {\n",
              "        vertical-align: top;\n",
              "    }\n",
              "\n",
              "    .dataframe thead th {\n",
              "        text-align: right;\n",
              "    }\n",
              "</style>\n",
              "<table border=\"1\" class=\"dataframe\">\n",
              "  <thead>\n",
              "    <tr style=\"text-align: right;\">\n",
              "      <th></th>\n",
              "      <th>Date Announced</th>\n",
              "      <th>Infected</th>\n",
              "      <th>Recovered</th>\n",
              "      <th>Death</th>\n",
              "      <th>Total Infected</th>\n",
              "      <th>Total Recovered</th>\n",
              "      <th>Total Deaths</th>\n",
              "      <th>Infected Increase</th>\n",
              "      <th>Death Increase</th>\n",
              "      <th>Recovered Increase</th>\n",
              "    </tr>\n",
              "  </thead>\n",
              "  <tbody>\n",
              "    <tr>\n",
              "      <th>0</th>\n",
              "      <td>2020-01-30</td>\n",
              "      <td>0</td>\n",
              "      <td>0</td>\n",
              "      <td>0</td>\n",
              "      <td>0</td>\n",
              "      <td>1.0</td>\n",
              "      <td>0</td>\n",
              "      <td>0</td>\n",
              "      <td>0</td>\n",
              "      <td>0</td>\n",
              "    </tr>\n",
              "    <tr>\n",
              "      <th>1</th>\n",
              "      <td>2020-02-02</td>\n",
              "      <td>0</td>\n",
              "      <td>0</td>\n",
              "      <td>0</td>\n",
              "      <td>0</td>\n",
              "      <td>2.0</td>\n",
              "      <td>0</td>\n",
              "      <td>0</td>\n",
              "      <td>0</td>\n",
              "      <td>0</td>\n",
              "    </tr>\n",
              "    <tr>\n",
              "      <th>2</th>\n",
              "      <td>2020-02-03</td>\n",
              "      <td>0</td>\n",
              "      <td>0</td>\n",
              "      <td>0</td>\n",
              "      <td>0</td>\n",
              "      <td>3.0</td>\n",
              "      <td>0</td>\n",
              "      <td>0</td>\n",
              "      <td>0</td>\n",
              "      <td>0</td>\n",
              "    </tr>\n",
              "    <tr>\n",
              "      <th>3</th>\n",
              "      <td>2020-03-02</td>\n",
              "      <td>0</td>\n",
              "      <td>1</td>\n",
              "      <td>0</td>\n",
              "      <td>0</td>\n",
              "      <td>5.0</td>\n",
              "      <td>0</td>\n",
              "      <td>0</td>\n",
              "      <td>0</td>\n",
              "      <td>1</td>\n",
              "    </tr>\n",
              "    <tr>\n",
              "      <th>4</th>\n",
              "      <td>2020-03-03</td>\n",
              "      <td>0</td>\n",
              "      <td>0</td>\n",
              "      <td>0</td>\n",
              "      <td>0</td>\n",
              "      <td>6.0</td>\n",
              "      <td>0</td>\n",
              "      <td>0</td>\n",
              "      <td>0</td>\n",
              "      <td>1</td>\n",
              "    </tr>\n",
              "    <tr>\n",
              "      <th>...</th>\n",
              "      <td>...</td>\n",
              "      <td>...</td>\n",
              "      <td>...</td>\n",
              "      <td>...</td>\n",
              "      <td>...</td>\n",
              "      <td>...</td>\n",
              "      <td>...</td>\n",
              "      <td>...</td>\n",
              "      <td>...</td>\n",
              "      <td>...</td>\n",
              "    </tr>\n",
              "    <tr>\n",
              "      <th>103</th>\n",
              "      <td>2020-06-10</td>\n",
              "      <td>105</td>\n",
              "      <td>0</td>\n",
              "      <td>1</td>\n",
              "      <td>286926</td>\n",
              "      <td>134623.0</td>\n",
              "      <td>7272</td>\n",
              "      <td>10052</td>\n",
              "      <td>91</td>\n",
              "      <td>39</td>\n",
              "    </tr>\n",
              "    <tr>\n",
              "      <th>104</th>\n",
              "      <td>2020-06-11</td>\n",
              "      <td>126</td>\n",
              "      <td>2</td>\n",
              "      <td>8</td>\n",
              "      <td>298061</td>\n",
              "      <td>140667.0</td>\n",
              "      <td>7666</td>\n",
              "      <td>10178</td>\n",
              "      <td>99</td>\n",
              "      <td>41</td>\n",
              "    </tr>\n",
              "    <tr>\n",
              "      <th>105</th>\n",
              "      <td>2020-06-12</td>\n",
              "      <td>104</td>\n",
              "      <td>1</td>\n",
              "      <td>2</td>\n",
              "      <td>309367</td>\n",
              "      <td>147930.0</td>\n",
              "      <td>8054</td>\n",
              "      <td>10282</td>\n",
              "      <td>101</td>\n",
              "      <td>42</td>\n",
              "    </tr>\n",
              "    <tr>\n",
              "      <th>106</th>\n",
              "      <td>2020-06-13</td>\n",
              "      <td>119</td>\n",
              "      <td>0</td>\n",
              "      <td>0</td>\n",
              "      <td>321406</td>\n",
              "      <td>156022.0</td>\n",
              "      <td>8363</td>\n",
              "      <td>10401</td>\n",
              "      <td>101</td>\n",
              "      <td>42</td>\n",
              "    </tr>\n",
              "    <tr>\n",
              "      <th>107</th>\n",
              "      <td>2020-06-14</td>\n",
              "      <td>104</td>\n",
              "      <td>0</td>\n",
              "      <td>2</td>\n",
              "      <td>332784</td>\n",
              "      <td>163378.0</td>\n",
              "      <td>8684</td>\n",
              "      <td>10505</td>\n",
              "      <td>103</td>\n",
              "      <td>42</td>\n",
              "    </tr>\n",
              "  </tbody>\n",
              "</table>\n",
              "<p>108 rows × 10 columns</p>\n",
              "</div>"
            ],
            "text/plain": [
              "    Date Announced  Infected  ...  Death Increase  Recovered Increase\n",
              "0       2020-01-30         0  ...               0                   0\n",
              "1       2020-02-02         0  ...               0                   0\n",
              "2       2020-02-03         0  ...               0                   0\n",
              "3       2020-03-02         0  ...               0                   1\n",
              "4       2020-03-03         0  ...               0                   1\n",
              "..             ...       ...  ...             ...                 ...\n",
              "103     2020-06-10       105  ...              91                  39\n",
              "104     2020-06-11       126  ...              99                  41\n",
              "105     2020-06-12       104  ...             101                  42\n",
              "106     2020-06-13       119  ...             101                  42\n",
              "107     2020-06-14       104  ...             103                  42\n",
              "\n",
              "[108 rows x 10 columns]"
            ]
          },
          "metadata": {
            "tags": []
          },
          "execution_count": 93
        }
      ]
    },
    {
      "cell_type": "code",
      "metadata": {
        "id": "BjC1c3zgGO7u",
        "colab_type": "code",
        "colab": {}
      },
      "source": [
        "train_conf = final.iloc[:,[0,4]]\n",
        "test_conf = final.iloc[:,[0,4]]\n",
        "train_rename(train_conf,test_conf,\"Total Infected\")"
      ],
      "execution_count": null,
      "outputs": []
    },
    {
      "cell_type": "code",
      "metadata": {
        "id": "1BBO22fcv-fZ",
        "colab_type": "code",
        "colab": {
          "base_uri": "https://localhost:8080/",
          "height": 1000
        },
        "outputId": "6d277fc1-b84d-42bd-b31a-067323257240"
      },
      "source": [
        "#building, training and forecasting\n",
        "arima,forecast,prediction_dates=build_arima(train_conf,(3,2,1),180)\n",
        "#plotting the residuals\n",
        "show_residuals(arima)\n",
        "arima_df=arima_forecast(forecast,prediction_dates)\n",
        "fig, ax = plt.subplots(figsize=(10,5))\n",
        "#plotting the model fit\n",
        "arima.plot_predict(ax=ax)\n",
        "#plotting the firecast\n",
        "conf_cases=plot_prediction(arima_df,train_conf)"
      ],
      "execution_count": null,
      "outputs": [
        {
          "output_type": "stream",
          "text": [
            "Optimization terminated successfully.\n",
            "         Current function value: 7.501302\n",
            "         Iterations: 18\n",
            "         Function evaluations: 48\n",
            "         Gradient evaluations: 48\n",
            "                             ARIMA Model Results                              \n",
            "==============================================================================\n",
            "Dep. Variable:                   D2.y   No. Observations:                  106\n",
            "Model:                 ARIMA(3, 2, 1)   Log Likelihood                -795.138\n",
            "Method:                           mle   S.D. of innovations            434.468\n",
            "Date:                Mon, 15 Jun 2020   AIC                           1600.276\n",
            "Time:                        09:40:52   BIC                           1613.593\n",
            "Sample:                             2   HQIC                          1605.673\n",
            "                                                                              \n",
            "==============================================================================\n",
            "                 coef    std err          z      P>|z|      [0.025      0.975]\n",
            "------------------------------------------------------------------------------\n",
            "ar.L1.D2.y     0.4695      0.092      5.084      0.000       0.288       0.651\n",
            "ar.L2.D2.y     0.1344      0.101      1.331      0.183      -0.064       0.332\n",
            "ar.L3.D2.y     0.3860      0.091      4.235      0.000       0.207       0.565\n",
            "ma.L1.D2.y    -0.9315      0.031    -30.439      0.000      -0.992      -0.872\n",
            "                                    Roots                                    \n",
            "=============================================================================\n",
            "                  Real          Imaginary           Modulus         Frequency\n",
            "-----------------------------------------------------------------------------\n",
            "AR.1            1.0053           -0.0000j            1.0053           -0.0000\n",
            "AR.2           -0.6768           -1.4557j            1.6053           -0.3193\n",
            "AR.3           -0.6768           +1.4557j            1.6053            0.3193\n",
            "MA.1            1.0735           +0.0000j            1.0735            0.0000\n",
            "-----------------------------------------------------------------------------\n"
          ],
          "name": "stdout"
        },
        {
          "output_type": "display_data",
          "data": {
            "image/png": "[encoded data removed]",
            "text/plain": [
              "<Figure size 720x360 with 1 Axes>"
            ]
          },
          "metadata": {
            "tags": []
          }
        },
        {
          "output_type": "display_data",
          "data": {
            "image/png": "[encoded data removed]",
            "text/plain": [
              "<Figure size 720x360 with 1 Axes>"
            ]
          },
          "metadata": {
            "tags": []
          }
        },
        {
          "output_type": "display_data",
          "data": {
            "image/png": "[encoded data removed]",
            "text/plain": [
              "<Figure size 432x288 with 1 Axes>"
            ]
          },
          "metadata": {
            "tags": []
          }
        },
        {
          "output_type": "stream",
          "text": [
            "                 0\n",
            "count   106.000000\n",
            "mean     70.482455\n",
            "std     430.753905\n",
            "min   -2185.502000\n",
            "25%     -66.926659\n",
            "50%       7.402067\n",
            "75%     309.786978\n",
            "max    1177.749312\n",
            "          Date     Predicted     Std Error  Interval_lower  Interval_upper\n",
            "150 2020-11-12  3.950827e+06  9.806055e+05    2.028875e+06    5.872778e+06\n",
            "151 2020-11-13  3.984169e+06  9.942626e+05    2.035450e+06    5.932888e+06\n",
            "152 2020-11-14  4.017603e+06  1.008019e+06    2.041923e+06    5.993283e+06\n",
            "153 2020-11-15  4.051129e+06  1.021873e+06    2.048295e+06    6.053964e+06\n",
            "154 2020-11-16  4.084747e+06  1.035827e+06    2.054564e+06    6.114931e+06\n",
            "155 2020-11-17  4.118456e+06  1.049879e+06    2.060730e+06    6.176182e+06\n",
            "156 2020-11-18  4.152256e+06  1.064031e+06    2.066794e+06    6.237718e+06\n",
            "157 2020-11-19  4.186146e+06  1.078281e+06    2.072754e+06    6.299538e+06\n",
            "158 2020-11-20  4.220125e+06  1.092630e+06    2.078609e+06    6.361640e+06\n",
            "159 2020-11-21  4.254193e+06  1.107078e+06    2.084360e+06    6.424026e+06\n",
            "160 2020-11-22  4.288350e+06  1.121625e+06    2.090007e+06    6.486694e+06\n",
            "161 2020-11-23  4.322596e+06  1.136270e+06    2.095547e+06    6.549644e+06\n",
            "162 2020-11-24  4.356929e+06  1.151014e+06    2.100982e+06    6.612875e+06\n",
            "163 2020-11-25  4.391349e+06  1.165857e+06    2.106311e+06    6.676387e+06\n",
            "164 2020-11-26  4.425856e+06  1.180799e+06    2.111533e+06    6.740179e+06\n",
            "165 2020-11-27  4.460450e+06  1.195839e+06    2.116648e+06    6.804251e+06\n",
            "166 2020-11-28  4.495129e+06  1.210978e+06    2.121655e+06    6.868603e+06\n",
            "167 2020-11-29  4.529894e+06  1.226216e+06    2.126555e+06    6.933233e+06\n",
            "168 2020-11-30  4.564744e+06  1.241552e+06    2.131346e+06    6.998142e+06\n",
            "169 2020-12-01  4.599678e+06  1.256988e+06    2.136028e+06    7.063328e+06\n",
            "170 2020-12-02  4.634697e+06  1.272521e+06    2.140601e+06    7.128792e+06\n",
            "171 2020-12-03  4.669799e+06  1.288153e+06    2.145064e+06    7.194533e+06\n",
            "172 2020-12-04  4.704984e+06  1.303884e+06    2.149418e+06    7.260550e+06\n",
            "173 2020-12-05  4.740252e+06  1.319713e+06    2.153661e+06    7.326843e+06\n",
            "174 2020-12-06  4.775603e+06  1.335641e+06    2.157794e+06    7.393411e+06\n",
            "175 2020-12-07  4.811035e+06  1.351667e+06    2.161815e+06    7.460255e+06\n",
            "176 2020-12-08  4.846549e+06  1.367792e+06    2.165726e+06    7.527372e+06\n",
            "177 2020-12-09  4.882144e+06  1.384015e+06    2.169524e+06    7.594764e+06\n",
            "178 2020-12-10  4.917819e+06  1.400337e+06    2.173210e+06    7.662429e+06\n",
            "179 2020-12-11  4.953575e+06  1.416756e+06    2.176784e+06    7.730366e+06\n"
          ],
          "name": "stdout"
        },
        {
          "output_type": "display_data",
          "data": {
            "image/png": "[encoded data removed]",
            "text/plain": [
              "<Figure size 720x360 with 1 Axes>"
            ]
          },
          "metadata": {
            "tags": []
          }
        },
        {
          "output_type": "display_data",
          "data": {
            "image/png": "[encoded data removed]",
            "text/plain": [
              "<Figure size 720x360 with 1 Axes>"
            ]
          },
          "metadata": {
            "tags": []
          }
        }
      ]
    },
    {
      "cell_type": "code",
      "metadata": {
        "id": "NN1xw6Pm_e24",
        "colab_type": "code",
        "colab": {
          "base_uri": "https://localhost:8080/",
          "height": 233
        },
        "outputId": "476e2b8a-d4b7-49cb-9b32-e5f6660814ba"
      },
      "source": [
        "hello=arima.predict(typ='levels')\n",
        "hello"
      ],
      "execution_count": null,
      "outputs": [
        {
          "output_type": "execute_result",
          "data": {
            "text/plain": [
              "4          0.000000\n",
              "5          0.000000\n",
              "6          0.000000\n",
              "7          0.000000\n",
              "8          0.000000\n",
              "           ...     \n",
              "103    10078.463895\n",
              "104    10163.472561\n",
              "105    10300.054320\n",
              "106    10399.897925\n",
              "107    10512.886776\n",
              "Length: 104, dtype: float64"
            ]
          },
          "metadata": {
            "tags": []
          },
          "execution_count": 176
        }
      ]
    },
    {
      "cell_type": "markdown",
      "metadata": {
        "id": "oiJRm80mJxfS",
        "colab_type": "text"
      },
      "source": [
        "all death done"
      ]
    },
    {
      "cell_type": "code",
      "metadata": {
        "id": "h3Q1--tLHpmZ",
        "colab_type": "code",
        "colab": {}
      },
      "source": [
        "current=pd.DataFrame(hello)\n",
        "future=arima_df['Predicted']\n",
        "frames=[current,future];\n",
        "df_death=pd.concat(frames);\n",
        "df_death=df_death.reset_index()\n",
        "df_death=df_death.drop(columns='index')"
      ],
      "execution_count": null,
      "outputs": []
    },
    {
      "cell_type": "markdown",
      "metadata": {
        "id": "oqiJOAJlJyAo",
        "colab_type": "text"
      },
      "source": [
        "all recovery"
      ]
    },
    {
      "cell_type": "code",
      "metadata": {
        "id": "ZOQwdbXUJsU2",
        "colab_type": "code",
        "colab": {}
      },
      "source": [
        "current=pd.DataFrame(hello)\n",
        "future=arima_df['Predicted']\n",
        "frames=[current,future];\n",
        "df_recv=pd.concat(frames);\n",
        "df_recv=df_recv.reset_index()\n",
        "df_recv=df_recv.drop(columns='index')"
      ],
      "execution_count": null,
      "outputs": []
    },
    {
      "cell_type": "markdown",
      "metadata": {
        "id": "cC3eFdDzJymY",
        "colab_type": "text"
      },
      "source": [
        "all infections"
      ]
    },
    {
      "cell_type": "code",
      "metadata": {
        "id": "c7HcA3B8Jt2K",
        "colab_type": "code",
        "colab": {}
      },
      "source": [
        "current=pd.DataFrame(hello)\n",
        "future=arima_df['Predicted']\n",
        "frames=[current,future];\n",
        "df_infect=pd.concat(frames);\n",
        "df_infect=df_infect.reset_index()\n",
        "df_infect=df_infect.drop(columns='index')"
      ],
      "execution_count": null,
      "outputs": []
    },
    {
      "cell_type": "code",
      "metadata": {
        "id": "bboXLYgdNM2-",
        "colab_type": "code",
        "colab": {
          "base_uri": "https://localhost:8080/",
          "height": 161
        },
        "outputId": "77b23eab-14c2-4633-c35c-2ecc0a31a7cf"
      },
      "source": [
        "df_infect.info()"
      ],
      "execution_count": null,
      "outputs": [
        {
          "output_type": "stream",
          "text": [
            "<class 'pandas.core.frame.DataFrame'>\n",
            "RangeIndex: 154 entries, 0 to 153\n",
            "Data columns (total 1 columns):\n",
            " #   Column  Non-Null Count  Dtype  \n",
            "---  ------  --------------  -----  \n",
            " 0   0       154 non-null    float64\n",
            "dtypes: float64(1)\n",
            "memory usage: 1.3 KB\n"
          ],
          "name": "stdout"
        }
      ]
    },
    {
      "cell_type": "markdown",
      "metadata": {
        "id": "4nmXMw3YJ37-",
        "colab_type": "text"
      },
      "source": [
        "age death"
      ]
    },
    {
      "cell_type": "code",
      "metadata": {
        "id": "4QmPMzvxJt-Z",
        "colab_type": "code",
        "colab": {}
      },
      "source": [
        "current=pd.DataFrame(hello)\n",
        "future=arima_df['Predicted']\n",
        "frames=[current,future];\n",
        "df_age_death=pd.concat(frames);\n",
        "df_age_death=df_age_death.reset_index()\n",
        "df_age_death=df_age_death.drop(columns='index')"
      ],
      "execution_count": null,
      "outputs": []
    },
    {
      "cell_type": "markdown",
      "metadata": {
        "id": "HIPCnTseJ4cl",
        "colab_type": "text"
      },
      "source": [
        "age infections"
      ]
    },
    {
      "cell_type": "code",
      "metadata": {
        "id": "1hN8kcv4Jsd5",
        "colab_type": "code",
        "colab": {}
      },
      "source": [
        "current=pd.DataFrame(hello)\n",
        "future=arima_df['Predicted']\n",
        "frames=[current,future];\n",
        "df_age_infect=pd.concat(frames);\n",
        "df_age_infect=df_age_infect.reset_index()\n",
        "df_age_infect=df_age_infect.drop(columns='index')"
      ],
      "execution_count": null,
      "outputs": []
    },
    {
      "cell_type": "code",
      "metadata": {
        "id": "8BEA7lJ3NxPN",
        "colab_type": "code",
        "colab": {
          "base_uri": "https://localhost:8080/",
          "height": 55
        },
        "outputId": "e2b74805-7dc6-430b-ced4-9516c19d1510"
      },
      "source": [
        "print(infection_rate)"
      ],
      "execution_count": null,
      "outputs": [
        {
          "output_type": "stream",
          "text": [
            "[3.2463671736789506, 3.432046158844624, 3.317951839736197, 3.2703098566981836, 3.2323570463427806, 3.1683369886011086, 3.1169171205522828, 3.0713534547140764, 3.0208896812866364, 2.9733544700085948, 2.9285935761517807, 2.883734522351201, 2.8402088162603425, 2.798253836268023, 2.757143570201092, 2.7170839937943048, 2.6781623066053837, 2.640187439022369, 2.6031570013570584, 2.567077420400068, 2.531883969038569, 2.4975476751161785, 2.464050016049077, 2.431356345384635, 2.3994387049270443, 2.368273854062108, 2.3378357534955936, 2.308100045117423, 2.2790444444090907, 2.250646793838811, 2.222885831287667, 2.195741437172485, 2.1691941466869102, 2.1432252358359625, 2.1178167892569593, 2.0929515677988015, 2.0686129888683142, 2.04478512635487, 2.021452661512324, 1.9986008545446947, 1.9762155264589254, 1.9542830304575451, 1.9327902272839501, 1.9117244647113032, 1.891073555589018, 1.8708257571381486, 1.8509697520889348]\n"
          ],
          "name": "stdout"
        }
      ]
    },
    {
      "cell_type": "code",
      "metadata": {
        "id": "bhfvUYVELhau",
        "colab_type": "code",
        "colab": {
          "base_uri": "https://localhost:8080/",
          "height": 408
        },
        "outputId": "d6ad286b-f74e-42ab-e2f5-4034429d1bbd"
      },
      "source": [
        "#calculating the infection rate\n",
        "infection_rate=[]\n",
        "for i in range(104,151):\n",
        "  infection_rate.append((\n",
        "  (df_infect[0][i]-df_infect[0][i-1])/df_infect[0][i])*100)\n",
        "#plotting the infection rate\n",
        "matplotlib.style.use('ggplot')\n",
        "fig = plt.figure(facecolor='w',figsize=(14,6)) # creating a plot figure\n",
        "ax = fig.add_subplot(111, axisbelow=True,facecolor='#87bba2')\n",
        "cols = np.linspace(1, 47, 47)\n",
        "ax.bar(cols,infection_rate,color='#2f3e46')\n",
        "ax.set_title('Infection Rate for 15th June - 31st July : India')\n",
        "ax.set_xlabel('Days')\n",
        "ax.set_ylabel('Infection Rate %')\n",
        "plt.show()"
      ],
      "execution_count": null,
      "outputs": [
        {
          "output_type": "display_data",
          "data": {
            "image/png": "[encoded data removed]",
            "text/plain": [
              "<Figure size 1008x432 with 1 Axes>"
            ]
          },
          "metadata": {
            "tags": []
          }
        }
      ]
    },
    {
      "cell_type": "code",
      "metadata": {
        "id": "fUrrIGfOOfMn",
        "colab_type": "code",
        "colab": {
          "base_uri": "https://localhost:8080/",
          "height": 408
        },
        "outputId": "e731a71f-961a-46fb-a897-d481f2edf7c8"
      },
      "source": [
        "#calculating the recovery rate\n",
        "recovery_rate=[]\n",
        "for i in range(104,151):\n",
        "  recovery_rate.append((\n",
        "  (df_recv[0][i])/df_infect[0][i-1])*100)\n",
        "#plotting the recovery rate\n",
        "matplotlib.style.use('ggplot')\n",
        "fig = plt.figure(facecolor='w',figsize=(14,6)) # creating a plot figure\n",
        "ax = fig.add_subplot(111, axisbelow=True,facecolor='#87bba2')\n",
        "cols = np.linspace(1, 47, 47)\n",
        "ax.bar(cols,recovery_rate,color='#2f3e46')\n",
        "ax.set_title('Recovery Rate for 15th June - 31st July : India')\n",
        "ax.set_xlabel('Days')\n",
        "ax.set_ylabel('Recovery Rate %')\n",
        "plt.show()"
      ],
      "execution_count": null,
      "outputs": [
        {
          "output_type": "display_data",
          "data": {
            "image/png": "[encoded data removed]",
            "text/plain": [
              "<Figure size 1008x432 with 1 Axes>"
            ]
          },
          "metadata": {
            "tags": []
          }
        }
      ]
    },
    {
      "cell_type": "code",
      "metadata": {
        "id": "m7_O-dLsRnze",
        "colab_type": "code",
        "colab": {
          "base_uri": "https://localhost:8080/",
          "height": 35
        },
        "outputId": "0a53be93-31db-4828-ed70-7d8033e5a50b"
      },
      "source": [
        "mean=sum(recovery_rate)/len(recovery50.47%_rate)\n",
        "print(str(mean)+'%')"
      ],
      "execution_count": null,
      "outputs": [
        {
          "output_type": "stream",
          "text": [
            "50.466932129171525%\n"
          ],
          "name": "stdout"
        }
      ]
    },
    {
      "cell_type": "code",
      "metadata": {
        "id": "CwHIjqw6PLv1",
        "colab_type": "code",
        "colab": {
          "base_uri": "https://localhost:8080/",
          "height": 408
        },
        "outputId": "c9d04dd5-1c89-4a6a-ea41-8a2b8858bc1c"
      },
      "source": [
        "#calculating the age death rate\n",
        "age_death_rate=[]\n",
        "for i in range(0,151):\n",
        "  age_death_rate.append((\n",
        "  (df_age_death[0][i])/df_infect[0][i])*100)\n",
        "#plotting the death rate\n",
        "matplotlib.style.use('ggplot')\n",
        "fig = plt.figure(facecolor='w',figsize=(14,6)) # creating a plot figure\n",
        "ax = fig.add_subplot(111, axisbelow=True,facecolor='#87bba2')\n",
        "cols = np.linspace(1, 152, 151)\n",
        "ax.bar(cols,age_death_rate,color='#2f3e46')\n",
        "ax.set_title('Death Rate 35-50 Age group till 31st July : India')\n",
        "ax.set_xlabel('Days')\n",
        "ax.set_ylabel('Death Rate %')\n",
        "plt.show()"
      ],
      "execution_count": null,
      "outputs": [
        {
          "output_type": "display_data",
          "data": {
            "image/png": "[encoded data removed]",
            "text/plain": [
              "<Figure size 1008x432 with 1 Axes>"
            ]
          },
          "metadata": {
            "tags": []
          }
        }
      ]
    },
    {
      "cell_type": "code",
      "metadata": {
        "id": "-GgfXFkgP4pl",
        "colab_type": "code",
        "colab": {
          "base_uri": "https://localhost:8080/",
          "height": 408
        },
        "outputId": "8ab24359-792b-4265-a910-bff36a03ff14"
      },
      "source": [
        "#calculating the age infect rate\n",
        "age_infect_rate=[]\n",
        "for i in range(0,151):\n",
        "  age_infect_rate.append((\n",
        "  (df_age_infect[0][i])/df_infect[0][i])*100)\n",
        "#plotting the infection rate\n",
        "matplotlib.style.use('ggplot')\n",
        "fig = plt.figure(facecolor='w',figsize=(14,6)) # creating a plot figure\n",
        "ax = fig.add_subplot(111, axisbelow=True,facecolor='#87bba2')\n",
        "cols = np.linspace(1, 152, 151)\n",
        "ax.bar(cols,age_infect_rate,color='#2f3e46')\n",
        "ax.set_title('Infect Rate 35-50 Age group till 31st July : India')\n",
        "ax.set_xlabel('Days')\n",
        "ax.set_ylabel('Infect Rate %')\n",
        "plt.show()"
      ],
      "execution_count": null,
      "outputs": [
        {
          "output_type": "display_data",
          "data": {
            "image/png": "[encoded data removed]",
            "text/plain": [
              "<Figure size 1008x432 with 1 Axes>"
            ]
          },
          "metadata": {
            "tags": []
          }
        }
      ]
    },
    {
      "cell_type": "code",
      "metadata": {
        "id": "F6tFrNBgTISI",
        "colab_type": "code",
        "colab": {
          "base_uri": "https://localhost:8080/",
          "height": 35
        },
        "outputId": "616644ac-2780-4e68-943c-acdfd75f0247"
      },
      "source": [
        "max(age_death_rate)\n"
      ],
      "execution_count": null,
      "outputs": [
        {
          "output_type": "execute_result",
          "data": {
            "text/plain": [
              "nan"
            ]
          },
          "metadata": {
            "tags": []
          },
          "execution_count": 233
        }
      ]
    },
    {
      "cell_type": "code",
      "metadata": {
        "id": "qkjITaX1_aBy",
        "colab_type": "code",
        "colab": {}
      },
      "source": [
        "import csv\n",
        "with open('/gdrive/My Drive/ml/all_death_current.csv', 'w', newline='') as file:\n",
        "    writer = csv.writer(file)\n",
        "    writer.writerow(hello)"
      ],
      "execution_count": null,
      "outputs": []
    },
    {
      "cell_type": "code",
      "metadata": {
        "id": "GHRY55yu_-5A",
        "colab_type": "code",
        "colab": {}
      },
      "source": [
        "import csv\n",
        "with open('/gdrive/My Drive/ml/all_death_future.csv', 'w', newline='') as file:\n",
        "    writer = csv.writer(file)\n",
        "    writer.writerow(arima_df['Predicted'])"
      ],
      "execution_count": null,
      "outputs": []
    }
  ]
}
