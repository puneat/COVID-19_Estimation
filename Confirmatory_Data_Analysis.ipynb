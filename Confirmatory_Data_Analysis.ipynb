{
  "nbformat": 4,
  "nbformat_minor": 0,
  "metadata": {
    "colab": {
      "name": "Confirmatory Data Analysis",
      "provenance": [],
      "authorship_tag": "ABX9TyNEqPmwaiB6yYCP9oYJGg2v",
      "include_colab_link": true
    },
    "kernelspec": {
      "name": "python3",
      "display_name": "Python 3"
    }
  },
  "cells": [
    {
      "cell_type": "markdown",
      "metadata": {
        "id": "view-in-github",
        "colab_type": "text"
      },
      "source": [
        "<a href=\"https://colab.research.google.com/github/puneat/COVID-19_Estimation/blob/master/Confirmatory_Data_Analysis.ipynb\" target=\"_parent\"><img src=\"https://colab.research.google.com/assets/colab-badge.svg\" alt=\"Open In Colab\"/></a>"
      ]
    },
    {
      "cell_type": "code",
      "metadata": {
        "id": "ajhwImwLqdkx",
        "colab_type": "code",
        "colab": {
          "base_uri": "https://localhost:8080/",
          "height": 127
        },
        "outputId": "b4922bef-b10c-41bc-f7b2-7569798d601e"
      },
      "source": [
        "from google.colab import drive\n",
        "drive.mount('/gdrive', force_remount=True)"
      ],
      "execution_count": null,
      "outputs": [
        {
          "output_type": "stream",
          "text": [
            "Go to this URL in a browser: https://accounts.google.com/o/oauth2/auth?client_id=947318989803-6bn6qk8qdgf4n4g3pfee6491hc0brc4i.apps.googleusercontent.com&redirect_uri=urn%3aietf%3awg%3aoauth%3a2.0%3aoob&response_type=code&scope=email%20https%3a%2f%2fwww.googleapis.com%2fauth%2fdocs.test%20https%3a%2f%2fwww.googleapis.com%2fauth%2fdrive%20https%3a%2f%2fwww.googleapis.com%2fauth%2fdrive.photos.readonly%20https%3a%2f%2fwww.googleapis.com%2fauth%2fpeopleapi.readonly\n",
            "\n",
            "Enter your authorization code:\n",
            "··········\n",
            "Mounted at /gdrive\n"
          ],
          "name": "stdout"
        }
      ]
    },
    {
      "cell_type": "code",
      "metadata": {
        "id": "A1a5lFxaro2i",
        "colab_type": "code",
        "colab": {}
      },
      "source": [
        "import numpy as np\n",
        "import csv\n",
        "from numpy import array\n",
        "from sklearn.metrics import r2_score"
      ],
      "execution_count": null,
      "outputs": []
    },
    {
      "cell_type": "code",
      "metadata": {
        "id": "xvlxsXjCslKM",
        "colab_type": "code",
        "colab": {}
      },
      "source": [
        "# reading our time series data of cases in india into cases object\n",
        "with open('/gdrive/My Drive/ml/case_time_series.csv', 'r') as f:\n",
        "    cases = list(csv.reader(f, delimiter=','))\n",
        "cases=array(cases) # converting cases to an array"
      ],
      "execution_count": null,
      "outputs": []
    },
    {
      "cell_type": "code",
      "metadata": {
        "id": "X5h1gJ4bsnHW",
        "colab_type": "code",
        "colab": {}
      },
      "source": [
        "# reading the 5 day rolling moving average\n",
        "day5_ma_confirmed=np.asfarray(cases[1:,[1,7,10]],float); #daily confirmed\n",
        "day5_ma_recovered=np.asfarray(cases[1:,[3,8,11]],float); #daily recovered\n",
        "day5_ma_deaths=np.asfarray(cases[1:,[5,9,12]],float); #daily deaths\n",
        "\n",
        "# reading the 10 day rolling moving average\n",
        "day10_ma_confirmed=np.asfarray(cases[1:,[1,13,16]],float); #daily confirmed\n",
        "day10_ma_recovered=np.asfarray(cases[1:,[3,14,17]],float); #daily recovered\n",
        "day10_ma_deaths=np.asfarray(cases[1:,[5,15,18]],float); #daily deaths"
      ],
      "execution_count": null,
      "outputs": []
    },
    {
      "cell_type": "code",
      "metadata": {
        "id": "1y91grEks2uX",
        "colab_type": "code",
        "colab": {}
      },
      "source": [
        "# function for calculating r-square\n",
        "def ma_r2_score(data_array):\n",
        "  sma_r2score=r2_score(data_array[:,0], data_array[:,1], multioutput='variance_weighted')#sma\n",
        "  ema_r2score=r2_score(data_array[:,0], data_array[:,2], multioutput='variance_weighted')#ema\n",
        "  return sma_r2score, ema_r2score"
      ],
      "execution_count": null,
      "outputs": []
    },
    {
      "cell_type": "markdown",
      "metadata": {
        "id": "INY_yPtU2LXu",
        "colab_type": "text"
      },
      "source": [
        "### **Confirmed Cases**"
      ]
    },
    {
      "cell_type": "code",
      "metadata": {
        "id": "U5Tu2wHUzdOP",
        "colab_type": "code",
        "colab": {}
      },
      "source": [
        "confirmed_cases_5ma=ma_r2_score(day5_ma_confirmed)\n",
        "confirmed_cases_10ma=ma_r2_score(day1_ma_confirmed)"
      ],
      "execution_count": null,
      "outputs": []
    },
    {
      "cell_type": "code",
      "metadata": {
        "id": "YQjWph9OzxEF",
        "colab_type": "code",
        "colab": {
          "base_uri": "https://localhost:8080/",
          "height": 107
        },
        "outputId": "5555b438-684c-46ae-98ec-606448339dac"
      },
      "source": [
        "print('Confirmed Cases')\n",
        "print('5 Day SMA R2 score : '+str(round(confirmed_cases_5ma[0],3)))\n",
        "print('5 Day EMA R2 score : '+str(round(confirmed_cases_5ma[1],3)))\n",
        "print('10 Day SMA R2 score : '+str(round(confirmed_cases_10ma[0],3)))\n",
        "print('10 Day EMA R2 score : '+str(round(confirmed_cases_10ma[1],3)))"
      ],
      "execution_count": null,
      "outputs": [
        {
          "output_type": "stream",
          "text": [
            "Confirmed Cases\n",
            "5 Day SMA R2 score : 0.981\n",
            "5 Day EMA R2 score : 0.985\n",
            "10 Day SMA R2 score : 0.947\n",
            "10 Day EMA R2 score : 0.954\n"
          ],
          "name": "stdout"
        }
      ]
    },
    {
      "cell_type": "markdown",
      "metadata": {
        "id": "G9b_4ss_2Qyj",
        "colab_type": "text"
      },
      "source": [
        "### **Recovered Cases**"
      ]
    },
    {
      "cell_type": "code",
      "metadata": {
        "id": "3jmDarx32QXs",
        "colab_type": "code",
        "colab": {}
      },
      "source": [
        "recovered_cases_5ma=ma_r2_score(day_5_recovered_backdated)\n",
        "recovered_cases_10ma=ma_r2_score(day_10_recovered_backdated)"
      ],
      "execution_count": null,
      "outputs": []
    },
    {
      "cell_type": "code",
      "metadata": {
        "id": "BXMPkIVc2W-M",
        "colab_type": "code",
        "colab": {
          "base_uri": "https://localhost:8080/",
          "height": 107
        },
        "outputId": "3aa71884-1da9-4091-a5f1-4e043808c4c0"
      },
      "source": [
        "print('Recovered Cases')\n",
        "print('5 Day SMA R2 score : '+str(round(recovered_cases_5ma[0],3)))\n",
        "print('5 Day EMA R2 score : '+str(round(recovered_cases_5ma[1],3)))\n",
        "print('10 Day SMA R2 score : '+str(round(recovered_cases_10ma[0],3)))\n",
        "print('10 Day EMA R2 score : '+str(round(recovered_cases_10ma[1],3)))"
      ],
      "execution_count": null,
      "outputs": [
        {
          "output_type": "stream",
          "text": [
            "Recovered Cases\n",
            "5 Day SMA R2 score : 0.931\n",
            "5 Day EMA R2 score : 0.919\n",
            "10 Day SMA R2 score : 0.893\n",
            "10 Day EMA R2 score : 0.898\n"
          ],
          "name": "stdout"
        }
      ]
    },
    {
      "cell_type": "code",
      "metadata": {
        "id": "YWV6UpeJCloq",
        "colab_type": "code",
        "colab": {
          "base_uri": "https://localhost:8080/",
          "height": 251
        },
        "outputId": "2e101a81-bd2f-4717-d9cd-5e67c6ca86ee"
      },
      "source": [
        "#intrapolating and redistributing the cases from 16th May to 29th May\n",
        "day_5_recovered_backdated=np.asfarray(cases[1:,[3,8,11]],float); #for backdating\n",
        "for days in range(107,120):\n",
        "  value=day_5_recovered_backdated[days,0]\n",
        "  day_5_recovered_backdated[days,0]=value+592 #backdating\n",
        "  print ('Old Value: '+ str(value)+\n",
        "      ', '+'New Value: '+ str(day_5_recovered_backdated[days,0]))\n",
        "day_5_recovered_backdated[120,0]=4039"
      ],
      "execution_count": null,
      "outputs": [
        {
          "output_type": "stream",
          "text": [
            "Old Value: 4012.0, New Value: 4604.0\n",
            "Old Value: 2538.0, New Value: 3130.0\n",
            "Old Value: 2482.0, New Value: 3074.0\n",
            "Old Value: 3032.0, New Value: 3624.0\n",
            "Old Value: 3099.0, New Value: 3691.0\n",
            "Old Value: 3150.0, New Value: 3742.0\n",
            "Old Value: 3300.0, New Value: 3892.0\n",
            "Old Value: 2576.0, New Value: 3168.0\n",
            "Old Value: 3292.0, New Value: 3884.0\n",
            "Old Value: 3014.0, New Value: 3606.0\n",
            "Old Value: 3587.0, New Value: 4179.0\n",
            "Old Value: 3434.0, New Value: 4026.0\n",
            "Old Value: 3171.0, New Value: 3763.0\n"
          ],
          "name": "stdout"
        }
      ]
    },
    {
      "cell_type": "code",
      "metadata": {
        "id": "pDTYVEmKMChu",
        "colab_type": "code",
        "colab": {
          "base_uri": "https://localhost:8080/",
          "height": 251
        },
        "outputId": "ee6bcfaa-1ff6-4a5c-b94d-ed1af88dd88b"
      },
      "source": [
        "#intrapolating and redistributing the cases from 16th May to 29th May\n",
        "day_10_recovered_backdated=np.asfarray(cases[1:,[3,14,17]],float); #for backdating\n",
        "for days in range(107,120):\n",
        "  value=day_10_recovered_backdated[days,0]\n",
        "  day_10_recovered_backdated[days,0]=value+592 #backdating\n",
        "  print ('Old Value: '+ str(value)+\n",
        "      ', '+'New Value: '+ str(day_10_recovered_backdated[days,0]))\n",
        "day_10_recovered_backdated[120,0]=4039"
      ],
      "execution_count": null,
      "outputs": [
        {
          "output_type": "stream",
          "text": [
            "Old Value: 4012.0, New Value: 4604.0\n",
            "Old Value: 2538.0, New Value: 3130.0\n",
            "Old Value: 2482.0, New Value: 3074.0\n",
            "Old Value: 3032.0, New Value: 3624.0\n",
            "Old Value: 3099.0, New Value: 3691.0\n",
            "Old Value: 3150.0, New Value: 3742.0\n",
            "Old Value: 3300.0, New Value: 3892.0\n",
            "Old Value: 2576.0, New Value: 3168.0\n",
            "Old Value: 3292.0, New Value: 3884.0\n",
            "Old Value: 3014.0, New Value: 3606.0\n",
            "Old Value: 3587.0, New Value: 4179.0\n",
            "Old Value: 3434.0, New Value: 4026.0\n",
            "Old Value: 3171.0, New Value: 3763.0\n"
          ],
          "name": "stdout"
        }
      ]
    },
    {
      "cell_type": "code",
      "metadata": {
        "id": "XqQtVt-wJRJn",
        "colab_type": "code",
        "colab": {
          "base_uri": "https://localhost:8080/",
          "height": 53
        },
        "outputId": "0c2c59f7-e8c0-4500-aea6-be9f05de1f14"
      },
      "source": [
        "print(day5_ma_recovered[107,0])\n",
        "print(recovered_backdated[107,0])"
      ],
      "execution_count": null,
      "outputs": [
        {
          "output_type": "stream",
          "text": [
            "6972.0\n",
            "6972.0\n"
          ],
          "name": "stdout"
        }
      ]
    },
    {
      "cell_type": "code",
      "metadata": {
        "id": "ajgtNAd1FeGZ",
        "colab_type": "code",
        "colab": {}
      },
      "source": [
        ""
      ],
      "execution_count": null,
      "outputs": []
    },
    {
      "cell_type": "markdown",
      "metadata": {
        "id": "zswrUmr92nzm",
        "colab_type": "text"
      },
      "source": [
        "### **Deaths**"
      ]
    },
    {
      "cell_type": "code",
      "metadata": {
        "id": "C_OErmLy2m7T",
        "colab_type": "code",
        "colab": {}
      },
      "source": [
        "deaths_5ma=ma_r2_score(day5_ma_deaths)\n",
        "deaths_10ma=ma_r2_score(day10_ma_deaths)"
      ],
      "execution_count": null,
      "outputs": []
    },
    {
      "cell_type": "code",
      "metadata": {
        "id": "2wLVbhzx2nb9",
        "colab_type": "code",
        "colab": {
          "base_uri": "https://localhost:8080/",
          "height": 107
        },
        "outputId": "b554cf54-c558-4782-dacc-d89c0faf5420"
      },
      "source": [
        "print('Deaths')\n",
        "print('5 Day SMA R2 score : '+str(round(deaths_5ma[0],3)))\n",
        "print('5 Day EMA R2 score : '+str(round(deaths_5ma[1],3)))\n",
        "print('10 Day SMA R2 score : '+str(round(deaths_10ma[0],3)))\n",
        "print('10 Day EMA R2 score : '+str(round(deaths_10ma[1],3)))"
      ],
      "execution_count": null,
      "outputs": [
        {
          "output_type": "stream",
          "text": [
            "Deaths\n",
            "5 Day SMA R2 score : 0.964\n",
            "5 Day EMA R2 score : 0.974\n",
            "10 Day SMA R2 score : 0.927\n",
            "10 Day EMA R2 score : 0.94\n"
          ],
          "name": "stdout"
        }
      ]
    }
  ]
}